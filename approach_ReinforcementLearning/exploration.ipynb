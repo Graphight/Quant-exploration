{
 "cells": [
  {
   "cell_type": "markdown",
   "id": "abf18cdd",
   "metadata": {},
   "source": [
    "# Imports"
   ]
  },
  {
   "cell_type": "code",
   "execution_count": null,
   "id": "a1de465e",
   "metadata": {
    "ExecuteTime": {
     "end_time": "2021-09-23T03:06:38.241768Z",
     "start_time": "2021-09-23T03:06:37.958168Z"
    }
   },
   "outputs": [],
   "source": [
    "import pandas as pd\n",
    "import pyarrow as pa\n",
    "import numpy as np\n",
    "\n",
    "from tqdm import tqdm\n",
    "from datetime import datetime, timedelta"
   ]
  },
  {
   "cell_type": "code",
   "execution_count": null,
   "id": "2fac9bca",
   "metadata": {
    "ExecuteTime": {
     "end_time": "2021-09-23T03:06:38.250829Z",
     "start_time": "2021-09-23T03:06:38.243115Z"
    }
   },
   "outputs": [],
   "source": [
    "pd.set_option('display.max_rows', 500)\n",
    "pd.set_option('display.max_columns', 500)\n",
    "pd.set_option('display.width', 1000)\n",
    "\n",
    "from IPython.core.display import display, HTML\n",
    "display(HTML(\"<style>.container { width:85% !important; }</style>\"))"
   ]
  },
  {
   "cell_type": "markdown",
   "id": "9a2170b3",
   "metadata": {},
   "source": [
    "# Read Data\n",
    "\n",
    "If you do not have the data then please run the *data-collector.ipynb* notebook and collect the specific crypto symbol you want to simulate.\n",
    "\n",
    "In the future I will probably change this to a streamlit utility to make it much more user friendly but I am lazy and this is a prototype"
   ]
  },
  {
   "cell_type": "code",
   "execution_count": null,
   "id": "35d9ee35",
   "metadata": {
    "ExecuteTime": {
     "end_time": "2021-09-23T03:06:38.990684Z",
     "start_time": "2021-09-23T03:06:38.252316Z"
    }
   },
   "outputs": [],
   "source": [
    "symbol = \"BTCUSDT\"\n",
    "\n",
    "df = pd.read_parquet(f\"../data_binance_crypto/symbol={symbol}/\", engine=\"pyarrow\")\n",
    "df.shape"
   ]
  },
  {
   "cell_type": "code",
   "execution_count": null,
   "id": "52d014a3",
   "metadata": {
    "ExecuteTime": {
     "end_time": "2021-09-23T03:06:39.007709Z",
     "start_time": "2021-09-23T03:06:38.992737Z"
    }
   },
   "outputs": [],
   "source": [
    "df.head()"
   ]
  },
  {
   "cell_type": "markdown",
   "id": "f3894b4a",
   "metadata": {},
   "source": [
    "## Quick and simple EDA"
   ]
  },
  {
   "cell_type": "code",
   "execution_count": null,
   "id": "5f184855",
   "metadata": {
    "ExecuteTime": {
     "end_time": "2021-09-23T03:06:39.206843Z",
     "start_time": "2021-09-23T03:06:39.010341Z"
    }
   },
   "outputs": [],
   "source": [
    "df.isna().sum()"
   ]
  },
  {
   "cell_type": "code",
   "execution_count": null,
   "id": "7ec6840b",
   "metadata": {
    "ExecuteTime": {
     "end_time": "2021-09-23T03:06:39.213052Z",
     "start_time": "2021-09-23T03:06:39.208093Z"
    }
   },
   "outputs": [],
   "source": [
    "columns = df.columns\n",
    "for col in sorted(columns):\n",
    "    print(f\"Col: {col.ljust(40, ' '):40} Type: {df[col].dtype}\")"
   ]
  },
  {
   "cell_type": "code",
   "execution_count": null,
   "id": "5d9fa82a",
   "metadata": {
    "ExecuteTime": {
     "end_time": "2021-09-23T03:06:39.797640Z",
     "start_time": "2021-09-23T03:06:39.215494Z"
    }
   },
   "outputs": [],
   "source": [
    "float_columns = [\n",
    "    \"open\",\n",
    "    \"high\",\n",
    "    \"low\",\n",
    "    \"close\",\n",
    "    \"volume\",\n",
    "    \"quote_asset_vol\",\n",
    "    \"taker_buy_base_asset_vol\",\n",
    "    \"taker_buy_quote_asset_vol\",\n",
    "    \"ignore_this\",\n",
    "]\n",
    "\n",
    "for col in float_columns:\n",
    "    df[col] = df[col].astype(float)"
   ]
  },
  {
   "cell_type": "code",
   "execution_count": null,
   "id": "1317907c",
   "metadata": {
    "ExecuteTime": {
     "end_time": "2021-09-23T03:06:39.975740Z",
     "start_time": "2021-09-23T03:06:39.799670Z"
    }
   },
   "outputs": [],
   "source": [
    "df.describe()"
   ]
  },
  {
   "cell_type": "markdown",
   "id": "5b0c3d49",
   "metadata": {},
   "source": [
    "# Feature engineering\n",
    "\n",
    "Initially this is going to be a bunch of *traditionally useful* financial features. In the paraphrased words of our boy Ernest Chan, \"throw heaps of features at your models during prototyping, let the model decide what it thinks is important, it is probably smarter than you.\"\n",
    "\n",
    "^This is obviously a joke taken to extremes but you get the point. Who are we to decide what is a \"good feature\", if we want to find some form of market inefficieny then why not try everything and use feature selection to trim down our list for us.\n",
    "\n",
    "According to this, https://arxiv.org/abs/2005.12483, LIME is just as promising as SHAP so I am eager to explore this. If it fails we can always fall back on good old SHAP"
   ]
  },
  {
   "cell_type": "code",
   "execution_count": null,
   "id": "89bdd6e1",
   "metadata": {
    "ExecuteTime": {
     "end_time": "2021-09-23T03:06:39.994131Z",
     "start_time": "2021-09-23T03:06:39.977353Z"
    }
   },
   "outputs": [],
   "source": [
    "df.head()"
   ]
  },
  {
   "cell_type": "markdown",
   "id": "8f433a4d",
   "metadata": {},
   "source": [
    "## Sell Conditions\n",
    "The \"taker buy\" columns come from when an order is filled based on an existing limit sell\n",
    "\n",
    "This number will always be less than the raw traded volume. This is because the raw volume will include market price sells\n",
    "\n",
    "We can therefore assume that when we take a ratio it will be a number between zero and one and represent the number of intentional sales. The inverse of this number will be the trades that come from panic selling at market or other market forces like liquidation"
   ]
  },
  {
   "cell_type": "code",
   "execution_count": null,
   "id": "46d7e414",
   "metadata": {
    "ExecuteTime": {
     "end_time": "2021-09-23T03:06:49.205474Z",
     "start_time": "2021-09-23T03:06:49.200652Z"
    }
   },
   "outputs": [],
   "source": [
    "df[\"ratio_intentional_trades\"] = df[\"taker_buy_base_asset_vol\"] / df[\"volume\"]"
   ]
  },
  {
   "cell_type": "code",
   "execution_count": null,
   "id": "f4a31a97",
   "metadata": {},
   "outputs": [],
   "source": [
    "df[\"ratio_intentional_trades_ma_10\"] = df.rolling(10)[\"ratio_intentional_trades\"].mean()"
   ]
  },
  {
   "cell_type": "code",
   "execution_count": null,
   "id": "b48f768b",
   "metadata": {
    "ExecuteTime": {
     "end_time": "2021-09-23T03:06:49.978853Z",
     "start_time": "2021-09-23T03:06:49.958785Z"
    }
   },
   "outputs": [],
   "source": [
    "df.head()"
   ]
  },
  {
   "cell_type": "markdown",
   "id": "50c263da",
   "metadata": {},
   "source": [
    "## Datetime semantics"
   ]
  },
  {
   "cell_type": "markdown",
   "id": "478022b6",
   "metadata": {},
   "source": [
    "### Year based\n",
    "If assuming cyclical behaviour then we would need more cases of each cycle.\n",
    "\n",
    "Because we have only collected ~8 months of training data we will have less than one cycle making this yearly data almost useless"
   ]
  },
  {
   "cell_type": "code",
   "execution_count": null,
   "id": "9f82078d",
   "metadata": {
    "ExecuteTime": {
     "end_time": "2021-09-23T03:06:57.015477Z",
     "start_time": "2021-09-23T03:06:57.008137Z"
    }
   },
   "outputs": [],
   "source": [
    "# df[\"quarter\"] = pd.to_datetime(df[\"day\"]).dt.quarter"
   ]
  },
  {
   "cell_type": "code",
   "execution_count": null,
   "id": "756b7e2a",
   "metadata": {
    "ExecuteTime": {
     "end_time": "2021-09-23T03:06:57.268358Z",
     "start_time": "2021-09-23T03:06:57.262958Z"
    }
   },
   "outputs": [],
   "source": [
    "# df[\"month_of_year\"] = pd.to_datetime(df[\"day\"]).dt.month"
   ]
  },
  {
   "cell_type": "code",
   "execution_count": null,
   "id": "bf82b362",
   "metadata": {
    "ExecuteTime": {
     "end_time": "2021-09-23T03:06:57.512269Z",
     "start_time": "2021-09-23T03:06:57.506963Z"
    }
   },
   "outputs": [],
   "source": [
    "# df[\"week_of_year\"] = pd.to_datetime(df[\"day\"]).dt.isocalendar().week"
   ]
  },
  {
   "cell_type": "markdown",
   "id": "2cb1b3e3",
   "metadata": {},
   "source": [
    "### Month based\n",
    "\n",
    "Month based data is assuming \"Fund Flow\" interactions where you have large firms re-balancing on a monthly schedule\n",
    "\n",
    "This might not be part of crypto but could prove valuable anyways"
   ]
  },
  {
   "cell_type": "code",
   "execution_count": null,
   "id": "30a394b9",
   "metadata": {
    "ExecuteTime": {
     "end_time": "2021-09-23T03:06:57.925753Z",
     "start_time": "2021-09-23T03:06:57.863533Z"
    }
   },
   "outputs": [],
   "source": [
    "df[\"day_of_month\"] = pd.to_datetime(df[\"day\"]).dt.day"
   ]
  },
  {
   "cell_type": "code",
   "execution_count": null,
   "id": "2e8b38b3",
   "metadata": {
    "ExecuteTime": {
     "end_time": "2021-09-23T03:06:58.126711Z",
     "start_time": "2021-09-23T03:06:58.064722Z"
    }
   },
   "outputs": [],
   "source": [
    "df[\"day_of_week\"] = pd.to_datetime(df[\"day\"]).dt.dayofweek"
   ]
  },
  {
   "cell_type": "markdown",
   "id": "cb316102",
   "metadata": {},
   "source": [
    "### Day based\n",
    "\n",
    "Day based data will show the influence each region has on the price. \n",
    "\n",
    "Because crypto is traded 24/7 it doesn't have a traditional market open and close. However each region around the world still needs to sleep and work so you will end up getting cyclical regional activity.\n",
    "\n",
    "Each region has different risks and economical situations so you should get different behaviours.\n",
    "\n",
    "You might also catch algorithmic trading based on certain times of day"
   ]
  },
  {
   "cell_type": "code",
   "execution_count": null,
   "id": "f4174c5a",
   "metadata": {
    "ExecuteTime": {
     "end_time": "2021-09-23T03:06:58.838265Z",
     "start_time": "2021-09-23T03:06:58.807290Z"
    }
   },
   "outputs": [],
   "source": [
    "df[\"hour_of_day\"] = pd.to_datetime(df[\"open_time\"], unit=\"ms\").dt.hour"
   ]
  },
  {
   "cell_type": "code",
   "execution_count": null,
   "id": "5f9c754e",
   "metadata": {
    "ExecuteTime": {
     "end_time": "2021-09-23T03:06:59.015225Z",
     "start_time": "2021-09-23T03:06:58.969922Z"
    }
   },
   "outputs": [],
   "source": [
    "df[\"minute_of_hour\"] = pd.to_datetime(df[\"open_time\"], unit=\"ms\").dt.minute"
   ]
  },
  {
   "cell_type": "code",
   "execution_count": null,
   "id": "ce7f1dd2",
   "metadata": {
    "ExecuteTime": {
     "end_time": "2021-09-23T03:06:59.123715Z",
     "start_time": "2021-09-23T03:06:59.097845Z"
    }
   },
   "outputs": [],
   "source": [
    "df.head()"
   ]
  },
  {
   "cell_type": "markdown",
   "id": "19641324",
   "metadata": {},
   "source": [
    "## Make trade values stationary\n",
    "\n",
    "For timeseries data there is a concept called \"stationarity\", in short this is the act of transforming the data so that statistical properties such as mean, variance, autocorrelation, etc actually mean something for the future. \n",
    "\n",
    "Commonly this is done by converting changes in price to percentages and scaling them across your train data. The model can only act on information it has seen before, by making your data stationary it is possible that it can pick out recurring behaviour.\n",
    "\n",
    "***Disclaimer***: To be frank, the choice of 10 for the rolling window size is totally arbitrary"
   ]
  },
  {
   "cell_type": "markdown",
   "id": "f4f6917b",
   "metadata": {},
   "source": [
    "### Price change\n",
    "\n",
    "Here we have the raw price change and the price change as a percentage of the opening\n",
    "\n",
    "We also want to look at a \"smoother\" price change in the form of a moving average. This is because typically when financial data is trending it isn't a nice line, it is a \"spiky\" line. By taking the moving average we lose some granularity but we can see the underlying momentum trend"
   ]
  },
  {
   "cell_type": "code",
   "execution_count": null,
   "id": "d1d4eea3",
   "metadata": {
    "ExecuteTime": {
     "end_time": "2021-09-23T04:35:50.164200Z",
     "start_time": "2021-09-23T04:35:50.151989Z"
    }
   },
   "outputs": [],
   "source": [
    "df[\"price_change\"] = df[\"close\"] - df[\"open\"]\n",
    "df[\"price_change_perc\"] =  df[\"price_change\"] / df[\"open\"]"
   ]
  },
  {
   "cell_type": "code",
   "execution_count": null,
   "id": "9d9b360d",
   "metadata": {
    "ExecuteTime": {
     "end_time": "2021-09-23T03:07:00.157973Z",
     "start_time": "2021-09-23T03:07:00.091969Z"
    }
   },
   "outputs": [],
   "source": [
    "df[\"price_change_ma_10\"] = df.rolling(10)[\"price_change\"].mean()\n",
    "df[\"price_change_perc_smooth\"] = df[\"price_change_ma_10\"] / df[\"open\"]"
   ]
  },
  {
   "cell_type": "code",
   "execution_count": null,
   "id": "47184b95",
   "metadata": {},
   "outputs": [],
   "source": [
    "df[[\n",
    "    \"open\",\n",
    "    \"close\",\n",
    "    \"price_change,\n",
    "    \"price_change_perc\",\n",
    "    \"price_change_ma_10\",\n",
    "    \"price_change_perc_smooth\"\n",
    "]].head(100)"
   ]
  },
  {
   "cell_type": "markdown",
   "id": "6bed5963",
   "metadata": {},
   "source": [
    "### Volatility\n",
    "\n",
    "Variance or \"volatility\" can be used to determine how stable the trading period was.\n",
    "\n",
    "Again we are using a smooth apporach to see if it helps the model."
   ]
  },
  {
   "cell_type": "code",
   "execution_count": null,
   "id": "bc31b716",
   "metadata": {
    "ExecuteTime": {
     "end_time": "2021-09-23T04:35:51.773095Z",
     "start_time": "2021-09-23T04:35:51.767924Z"
    }
   },
   "outputs": [],
   "source": [
    "df[\"volatility\"] = df[\"high\"] - df[\"low\"]\n",
    "df[\"volatility_perc\"] = df[\"volatility\"] / df[\"open\"]"
   ]
  },
  {
   "cell_type": "code",
   "execution_count": null,
   "id": "cfb15e5e",
   "metadata": {},
   "outputs": [],
   "source": [
    "df[\"volatility_ma_10\"] = df.rolling(10)[\"volatility\"].mean()\n",
    "df[\"volatility_perc_smooth\"] = df[\"volatility_ma_10\"] / df[\"open\"]"
   ]
  },
  {
   "cell_type": "code",
   "execution_count": null,
   "id": "ac528b25",
   "metadata": {},
   "outputs": [],
   "source": [
    "df[[\n",
    "    \"high\",\n",
    "    \"low\",\n",
    "    \"volatility,\n",
    "    \"volatility_perc\",\n",
    "    \"volatility_ma_10\",\n",
    "    \"volatility_perc_smooth\"\n",
    "]].head(100)"
   ]
  },
  {
   "cell_type": "markdown",
   "id": "5cff160f",
   "metadata": {},
   "source": [
    "### Volume change\n",
    "\n",
    "Volume is another indicator of stability. If the volume suddenly jumps above the norm we might expect a change in market direction. \n",
    "\n",
    "For this reason we are looking at the volume change since last time period and another smoothed version"
   ]
  },
  {
   "cell_type": "code",
   "execution_count": null,
   "id": "625eaa1f",
   "metadata": {
    "ExecuteTime": {
     "end_time": "2021-09-23T04:36:09.393039Z",
     "start_time": "2021-09-23T04:36:09.385085Z"
    }
   },
   "outputs": [],
   "source": [
    "df[\"last_volume\"] = df[\"volume\"].shift(1)\n",
    "\n",
    "df[\"volume_change\"] = df[\"volume\"] - df[\"last_volume\"]\n",
    "df[\"volume_change_perc\"] = df[\"volume_change\"] / df[\"last_volume\"]"
   ]
  },
  {
   "cell_type": "code",
   "execution_count": null,
   "id": "d410785e",
   "metadata": {},
   "outputs": [],
   "source": [
    "df[\"volume_change_ma_10\"] = df.rolling(10)[\"volume_change\"].mean()\n",
    "df[\"volume_change_perc_smooth\"] = df[\"volume_change_ma_10\"] / df[\"last_volume\"]"
   ]
  },
  {
   "cell_type": "code",
   "execution_count": null,
   "id": "650fe0e0",
   "metadata": {
    "ExecuteTime": {
     "end_time": "2021-09-23T04:36:11.006833Z",
     "start_time": "2021-09-23T04:36:10.966297Z"
    }
   },
   "outputs": [],
   "source": [
    "df[[\n",
    "    \"volume\",\n",
    "    \"last_volume\",\n",
    "    \"volume_change,\n",
    "    \"volume_change_perc\",\n",
    "    \"volume_change_ma_10\",\n",
    "    \"volume_change_perc_smooth\"\n",
    "]].head(100)"
   ]
  },
  {
   "cell_type": "code",
   "execution_count": null,
   "id": "8d9bd8d7",
   "metadata": {},
   "outputs": [],
   "source": []
  },
  {
   "cell_type": "code",
   "execution_count": null,
   "id": "5ea5ebf1",
   "metadata": {},
   "outputs": [],
   "source": []
  },
  {
   "cell_type": "code",
   "execution_count": null,
   "id": "66a0e1d6",
   "metadata": {},
   "outputs": [],
   "source": []
  },
  {
   "cell_type": "code",
   "execution_count": null,
   "id": "7fb72081",
   "metadata": {},
   "outputs": [],
   "source": []
  },
  {
   "cell_type": "code",
   "execution_count": null,
   "id": "1ccd2b98",
   "metadata": {},
   "outputs": [],
   "source": []
  },
  {
   "cell_type": "code",
   "execution_count": null,
   "id": "5db23617",
   "metadata": {},
   "outputs": [],
   "source": []
  },
  {
   "cell_type": "markdown",
   "id": "f991f24b",
   "metadata": {},
   "source": [
    "## Graphs\n",
    "\n",
    "I am eager to get on to the model so will leave the feature engineering here for now, we can always return and add more to it"
   ]
  },
  {
   "cell_type": "code",
   "execution_count": null,
   "id": "465282b4",
   "metadata": {},
   "outputs": [],
   "source": []
  },
  {
   "cell_type": "code",
   "execution_count": null,
   "id": "1f2bdf63",
   "metadata": {},
   "outputs": [],
   "source": []
  },
  {
   "cell_type": "code",
   "execution_count": null,
   "id": "2ba1c6d5",
   "metadata": {
    "ExecuteTime": {
     "end_time": "2021-09-23T20:23:56.164513Z",
     "start_time": "2021-09-23T20:23:56.159425Z"
    }
   },
   "outputs": [],
   "source": [
    "import plotly.express as px\n",
    "\n",
    "# px.scatter(\n",
    "#     df,\n",
    "#     x=\"open_time\",\n",
    "#     y=\"ratio_intentional_vol\",\n",
    "#     height=1024\n",
    "# )"
   ]
  },
  {
   "cell_type": "code",
   "execution_count": null,
   "id": "52bbe1e7",
   "metadata": {
    "ExecuteTime": {
     "end_time": "2021-09-23T20:24:00.925957Z",
     "start_time": "2021-09-23T20:24:00.920547Z"
    }
   },
   "outputs": [],
   "source": [
    "import plotly.express as px\n",
    "\n",
    "# px.scatter(\n",
    "#     df,\n",
    "#     x=\"open_time\",\n",
    "#     y=\"open\",\n",
    "#     height=1024\n",
    "# )"
   ]
  },
  {
   "cell_type": "code",
   "execution_count": null,
   "id": "7e74daaa",
   "metadata": {},
   "outputs": [],
   "source": []
  },
  {
   "cell_type": "code",
   "execution_count": null,
   "id": "94041971",
   "metadata": {},
   "outputs": [],
   "source": []
  },
  {
   "cell_type": "code",
   "execution_count": null,
   "id": "6737b54d",
   "metadata": {},
   "outputs": [],
   "source": []
  },
  {
   "cell_type": "code",
   "execution_count": null,
   "id": "318e8d3b",
   "metadata": {},
   "outputs": [],
   "source": []
  },
  {
   "cell_type": "code",
   "execution_count": null,
   "id": "73641ddc",
   "metadata": {},
   "outputs": [],
   "source": []
  },
  {
   "cell_type": "code",
   "execution_count": null,
   "id": "5bf2f097",
   "metadata": {},
   "outputs": [],
   "source": []
  },
  {
   "cell_type": "markdown",
   "id": "8107e2e3",
   "metadata": {},
   "source": [
    "# Gym"
   ]
  },
  {
   "cell_type": "code",
   "execution_count": null,
   "id": "f3c1938e",
   "metadata": {
    "ExecuteTime": {
     "end_time": "2021-09-23T03:06:40.116763Z",
     "start_time": "2021-09-23T03:06:38.045Z"
    }
   },
   "outputs": [],
   "source": [
    "import gym\n",
    "\n",
    "from gym import spaces\n",
    "from sklearn import preprocessing"
   ]
  },
  {
   "cell_type": "code",
   "execution_count": null,
   "id": "ce5b383d",
   "metadata": {
    "ExecuteTime": {
     "end_time": "2021-09-23T03:06:40.118175Z",
     "start_time": "2021-09-23T03:06:38.047Z"
    }
   },
   "outputs": [],
   "source": [
    "class CryptoTradingEnv(gym.Env):\n",
    "    \n",
    "    metadata = {\"render.modes\": [\"live\", \"file\", \"none\"]}\n",
    "    scaler = preprocessing.MinMaxScaler()\n",
    "    viewer = None\n",
    "    \n",
    "    def __init__(\n",
    "        self, \n",
    "        df: pd.DataFrame, \n",
    "        lookback_window_size : int=50,\n",
    "        commission : float = 0.00075,\n",
    "        initial_balance : float = 1_000.0,\n",
    "        serial : bool = False\n",
    "    ):\n",
    "        super(CryptoTradingEnv, self).__init__()\n",
    "        \n",
    "        self.df = df\n",
    "        self.initial_balance = initial_balance\n",
    "        self.commission = commission\n",
    "        self.serial = serial\n",
    "        \n",
    "        # The agent can buy, sell, hold, at certain amounts 1/10 through 10/10\n",
    "        self.action_space = spaces.MultiDiscrete([3, 10])\n",
    "        \n",
    "        #Observes the OHCLV values, net worth, and trade history\n",
    "        self.observation_space = spaces.Box(\n",
    "            shape(10, lookback_window_size + 1),\n",
    "            low=0,\n",
    "            high=1,\n",
    "            dytpe=np.float16\n",
    "        )\n",
    "    \n",
    "    "
   ]
  },
  {
   "cell_type": "code",
   "execution_count": null,
   "id": "b8caaac7",
   "metadata": {},
   "outputs": [],
   "source": []
  },
  {
   "cell_type": "code",
   "execution_count": null,
   "id": "d845db27",
   "metadata": {},
   "outputs": [],
   "source": []
  },
  {
   "cell_type": "code",
   "execution_count": null,
   "id": "96168895",
   "metadata": {},
   "outputs": [],
   "source": []
  },
  {
   "cell_type": "code",
   "execution_count": null,
   "id": "495918cc",
   "metadata": {},
   "outputs": [],
   "source": []
  },
  {
   "cell_type": "code",
   "execution_count": null,
   "id": "2b09d83e",
   "metadata": {},
   "outputs": [],
   "source": []
  },
  {
   "cell_type": "code",
   "execution_count": null,
   "id": "4c9452a3",
   "metadata": {},
   "outputs": [],
   "source": []
  },
  {
   "cell_type": "code",
   "execution_count": null,
   "id": "0347e65d",
   "metadata": {},
   "outputs": [],
   "source": []
  }
 ],
 "metadata": {
  "kernelspec": {
   "display_name": "Python 3",
   "language": "python",
   "name": "python3"
  },
  "language_info": {
   "codemirror_mode": {
    "name": "ipython",
    "version": 3
   },
   "file_extension": ".py",
   "mimetype": "text/x-python",
   "name": "python",
   "nbconvert_exporter": "python",
   "pygments_lexer": "ipython3",
   "version": "3.9.5"
  }
 },
 "nbformat": 4,
 "nbformat_minor": 5
}
