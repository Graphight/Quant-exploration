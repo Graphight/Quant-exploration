{
 "cells": [
  {
   "cell_type": "markdown",
   "id": "abf18cdd",
   "metadata": {},
   "source": [
    "# Imports"
   ]
  },
  {
   "cell_type": "code",
   "execution_count": 1,
   "id": "a1de465e",
   "metadata": {
    "ExecuteTime": {
     "end_time": "2021-09-03T10:10:50.537842Z",
     "start_time": "2021-09-03T10:10:50.132467Z"
    }
   },
   "outputs": [],
   "source": [
    "import pandas as pd\n",
    "import pyarrow as pa\n",
    "import numpy as np\n",
    "\n",
    "from datetime import datetime, timedelta"
   ]
  },
  {
   "cell_type": "code",
   "execution_count": 2,
   "id": "2fac9bca",
   "metadata": {
    "ExecuteTime": {
     "end_time": "2021-09-03T10:10:50.548853Z",
     "start_time": "2021-09-03T10:10:50.539274Z"
    }
   },
   "outputs": [
    {
     "data": {
      "text/html": [
       "<style>.container { width:85% !important; }</style>"
      ],
      "text/plain": [
       "<IPython.core.display.HTML object>"
      ]
     },
     "metadata": {},
     "output_type": "display_data"
    }
   ],
   "source": [
    "pd.set_option('display.max_rows', 500)\n",
    "pd.set_option('display.max_columns', 500)\n",
    "pd.set_option('display.width', 1000)\n",
    "\n",
    "from IPython.core.display import display, HTML\n",
    "display(HTML(\"<style>.container { width:85% !important; }</style>\"))"
   ]
  },
  {
   "cell_type": "markdown",
   "id": "9a2170b3",
   "metadata": {},
   "source": [
    "# Read Data"
   ]
  },
  {
   "cell_type": "code",
   "execution_count": 41,
   "id": "35d9ee35",
   "metadata": {
    "ExecuteTime": {
     "end_time": "2021-09-03T10:49:09.841840Z",
     "start_time": "2021-09-03T10:49:09.094138Z"
    }
   },
   "outputs": [
    {
     "data": {
      "text/plain": [
       "(349290, 13)"
      ]
     },
     "execution_count": 41,
     "metadata": {},
     "output_type": "execute_result"
    }
   ],
   "source": [
    "symbol = \"BTCUSDT\"\n",
    "\n",
    "df = pd.read_parquet(f\"../data_binance_crypto/symbol={symbol}/\", engine=\"pyarrow\")\n",
    "df.shape"
   ]
  },
  {
   "cell_type": "code",
   "execution_count": 42,
   "id": "52d014a3",
   "metadata": {
    "ExecuteTime": {
     "end_time": "2021-09-03T10:49:09.854118Z",
     "start_time": "2021-09-03T10:49:09.843211Z"
    }
   },
   "outputs": [
    {
     "data": {
      "text/html": [
       "<div>\n",
       "<style scoped>\n",
       "    .dataframe tbody tr th:only-of-type {\n",
       "        vertical-align: middle;\n",
       "    }\n",
       "\n",
       "    .dataframe tbody tr th {\n",
       "        vertical-align: top;\n",
       "    }\n",
       "\n",
       "    .dataframe thead th {\n",
       "        text-align: right;\n",
       "    }\n",
       "</style>\n",
       "<table border=\"1\" class=\"dataframe\">\n",
       "  <thead>\n",
       "    <tr style=\"text-align: right;\">\n",
       "      <th></th>\n",
       "      <th>open_time</th>\n",
       "      <th>open</th>\n",
       "      <th>high</th>\n",
       "      <th>low</th>\n",
       "      <th>close</th>\n",
       "      <th>volume</th>\n",
       "      <th>close_time</th>\n",
       "      <th>quote_asset_vol</th>\n",
       "      <th>num_trades</th>\n",
       "      <th>taker_buy_base_asset_vol</th>\n",
       "      <th>taker_buy_quote_asset_vol</th>\n",
       "      <th>ignore_this</th>\n",
       "      <th>day</th>\n",
       "    </tr>\n",
       "  </thead>\n",
       "  <tbody>\n",
       "    <tr>\n",
       "      <th>0</th>\n",
       "      <td>1609459200000</td>\n",
       "      <td>28923.63000000</td>\n",
       "      <td>28961.66000000</td>\n",
       "      <td>28913.12000000</td>\n",
       "      <td>28961.66000000</td>\n",
       "      <td>27.45703200</td>\n",
       "      <td>1609459259999</td>\n",
       "      <td>794382.04398665</td>\n",
       "      <td>1292</td>\n",
       "      <td>16.77719500</td>\n",
       "      <td>485390.82682460</td>\n",
       "      <td>0</td>\n",
       "      <td>2021-01-01</td>\n",
       "    </tr>\n",
       "    <tr>\n",
       "      <th>1</th>\n",
       "      <td>1609459260000</td>\n",
       "      <td>28961.67000000</td>\n",
       "      <td>29017.50000000</td>\n",
       "      <td>28961.01000000</td>\n",
       "      <td>29009.91000000</td>\n",
       "      <td>58.47750100</td>\n",
       "      <td>1609459319999</td>\n",
       "      <td>1695802.89696884</td>\n",
       "      <td>1651</td>\n",
       "      <td>33.73381800</td>\n",
       "      <td>978176.46820208</td>\n",
       "      <td>0</td>\n",
       "      <td>2021-01-01</td>\n",
       "    </tr>\n",
       "    <tr>\n",
       "      <th>2</th>\n",
       "      <td>1609459320000</td>\n",
       "      <td>29009.54000000</td>\n",
       "      <td>29016.71000000</td>\n",
       "      <td>28973.58000000</td>\n",
       "      <td>28989.30000000</td>\n",
       "      <td>42.47032900</td>\n",
       "      <td>1609459379999</td>\n",
       "      <td>1231358.69059884</td>\n",
       "      <td>986</td>\n",
       "      <td>13.24744400</td>\n",
       "      <td>384076.85445305</td>\n",
       "      <td>0</td>\n",
       "      <td>2021-01-01</td>\n",
       "    </tr>\n",
       "    <tr>\n",
       "      <th>3</th>\n",
       "      <td>1609459380000</td>\n",
       "      <td>28989.68000000</td>\n",
       "      <td>28999.85000000</td>\n",
       "      <td>28972.33000000</td>\n",
       "      <td>28982.69000000</td>\n",
       "      <td>30.36067700</td>\n",
       "      <td>1609459439999</td>\n",
       "      <td>880016.76348383</td>\n",
       "      <td>959</td>\n",
       "      <td>9.45602800</td>\n",
       "      <td>274083.07514154</td>\n",
       "      <td>0</td>\n",
       "      <td>2021-01-01</td>\n",
       "    </tr>\n",
       "    <tr>\n",
       "      <th>4</th>\n",
       "      <td>1609459440000</td>\n",
       "      <td>28982.67000000</td>\n",
       "      <td>28995.93000000</td>\n",
       "      <td>28971.80000000</td>\n",
       "      <td>28975.65000000</td>\n",
       "      <td>24.12433900</td>\n",
       "      <td>1609459499999</td>\n",
       "      <td>699226.20560386</td>\n",
       "      <td>726</td>\n",
       "      <td>6.81464400</td>\n",
       "      <td>197519.37488805</td>\n",
       "      <td>0</td>\n",
       "      <td>2021-01-01</td>\n",
       "    </tr>\n",
       "  </tbody>\n",
       "</table>\n",
       "</div>"
      ],
      "text/plain": [
       "       open_time            open            high             low           close       volume     close_time   quote_asset_vol  num_trades taker_buy_base_asset_vol taker_buy_quote_asset_vol ignore_this         day\n",
       "0  1609459200000  28923.63000000  28961.66000000  28913.12000000  28961.66000000  27.45703200  1609459259999   794382.04398665        1292              16.77719500           485390.82682460           0  2021-01-01\n",
       "1  1609459260000  28961.67000000  29017.50000000  28961.01000000  29009.91000000  58.47750100  1609459319999  1695802.89696884        1651              33.73381800           978176.46820208           0  2021-01-01\n",
       "2  1609459320000  29009.54000000  29016.71000000  28973.58000000  28989.30000000  42.47032900  1609459379999  1231358.69059884         986              13.24744400           384076.85445305           0  2021-01-01\n",
       "3  1609459380000  28989.68000000  28999.85000000  28972.33000000  28982.69000000  30.36067700  1609459439999   880016.76348383         959               9.45602800           274083.07514154           0  2021-01-01\n",
       "4  1609459440000  28982.67000000  28995.93000000  28971.80000000  28975.65000000  24.12433900  1609459499999   699226.20560386         726               6.81464400           197519.37488805           0  2021-01-01"
      ]
     },
     "execution_count": 42,
     "metadata": {},
     "output_type": "execute_result"
    }
   ],
   "source": [
    "df.head()"
   ]
  },
  {
   "cell_type": "markdown",
   "id": "f3894b4a",
   "metadata": {},
   "source": [
    "## Quick and simple EDA"
   ]
  },
  {
   "cell_type": "code",
   "execution_count": 43,
   "id": "5f184855",
   "metadata": {
    "ExecuteTime": {
     "end_time": "2021-09-03T10:49:09.989586Z",
     "start_time": "2021-09-03T10:49:09.855520Z"
    }
   },
   "outputs": [
    {
     "data": {
      "text/plain": [
       "open_time                    0\n",
       "open                         0\n",
       "high                         0\n",
       "low                          0\n",
       "close                        0\n",
       "volume                       0\n",
       "close_time                   0\n",
       "quote_asset_vol              0\n",
       "num_trades                   0\n",
       "taker_buy_base_asset_vol     0\n",
       "taker_buy_quote_asset_vol    0\n",
       "ignore_this                  0\n",
       "day                          0\n",
       "dtype: int64"
      ]
     },
     "execution_count": 43,
     "metadata": {},
     "output_type": "execute_result"
    }
   ],
   "source": [
    "df.isna().sum()"
   ]
  },
  {
   "cell_type": "code",
   "execution_count": 44,
   "id": "7ec6840b",
   "metadata": {
    "ExecuteTime": {
     "end_time": "2021-09-03T10:49:09.994660Z",
     "start_time": "2021-09-03T10:49:09.990853Z"
    }
   },
   "outputs": [
    {
     "name": "stdout",
     "output_type": "stream",
     "text": [
      "Col: close                                    Type: object\n",
      "Col: close_time                               Type: int64\n",
      "Col: day                                      Type: category\n",
      "Col: high                                     Type: object\n",
      "Col: ignore_this                              Type: object\n",
      "Col: low                                      Type: object\n",
      "Col: num_trades                               Type: int64\n",
      "Col: open                                     Type: object\n",
      "Col: open_time                                Type: int64\n",
      "Col: quote_asset_vol                          Type: object\n",
      "Col: taker_buy_base_asset_vol                 Type: object\n",
      "Col: taker_buy_quote_asset_vol                Type: object\n",
      "Col: volume                                   Type: object\n"
     ]
    }
   ],
   "source": [
    "columns = df.columns\n",
    "for col in sorted(columns):\n",
    "    print(f\"Col: {col.ljust(40, ' '):40} Type: {df[col].dtype}\")"
   ]
  },
  {
   "cell_type": "code",
   "execution_count": 45,
   "id": "5d9fa82a",
   "metadata": {
    "ExecuteTime": {
     "end_time": "2021-09-03T10:49:10.402260Z",
     "start_time": "2021-09-03T10:49:09.995643Z"
    }
   },
   "outputs": [],
   "source": [
    "float_columns = [\n",
    "    \"open\",\n",
    "    \"high\",\n",
    "    \"low\",\n",
    "    \"close\",\n",
    "    \"volume\",\n",
    "    \"quote_asset_vol\",\n",
    "    \"taker_buy_base_asset_vol\",\n",
    "    \"taker_buy_quote_asset_vol\",\n",
    "    \"ignore_this\",\n",
    "]\n",
    "\n",
    "for col in float_columns:\n",
    "    df[col] = df[col].astype(float)"
   ]
  },
  {
   "cell_type": "code",
   "execution_count": 46,
   "id": "1317907c",
   "metadata": {
    "ExecuteTime": {
     "end_time": "2021-09-03T10:49:10.531818Z",
     "start_time": "2021-09-03T10:49:10.403480Z"
    }
   },
   "outputs": [
    {
     "data": {
      "text/html": [
       "<div>\n",
       "<style scoped>\n",
       "    .dataframe tbody tr th:only-of-type {\n",
       "        vertical-align: middle;\n",
       "    }\n",
       "\n",
       "    .dataframe tbody tr th {\n",
       "        vertical-align: top;\n",
       "    }\n",
       "\n",
       "    .dataframe thead th {\n",
       "        text-align: right;\n",
       "    }\n",
       "</style>\n",
       "<table border=\"1\" class=\"dataframe\">\n",
       "  <thead>\n",
       "    <tr style=\"text-align: right;\">\n",
       "      <th></th>\n",
       "      <th>open_time</th>\n",
       "      <th>open</th>\n",
       "      <th>high</th>\n",
       "      <th>low</th>\n",
       "      <th>close</th>\n",
       "      <th>volume</th>\n",
       "      <th>close_time</th>\n",
       "      <th>quote_asset_vol</th>\n",
       "      <th>num_trades</th>\n",
       "      <th>taker_buy_base_asset_vol</th>\n",
       "      <th>taker_buy_quote_asset_vol</th>\n",
       "      <th>ignore_this</th>\n",
       "    </tr>\n",
       "  </thead>\n",
       "  <tbody>\n",
       "    <tr>\n",
       "      <th>count</th>\n",
       "      <td>3.492900e+05</td>\n",
       "      <td>349290.000000</td>\n",
       "      <td>349290.000000</td>\n",
       "      <td>349290.000000</td>\n",
       "      <td>349290.000000</td>\n",
       "      <td>349290.000000</td>\n",
       "      <td>3.492900e+05</td>\n",
       "      <td>3.492900e+05</td>\n",
       "      <td>349290.000000</td>\n",
       "      <td>349290.000000</td>\n",
       "      <td>3.492900e+05</td>\n",
       "      <td>349290.0</td>\n",
       "    </tr>\n",
       "    <tr>\n",
       "      <th>mean</th>\n",
       "      <td>1.619954e+12</td>\n",
       "      <td>44291.498376</td>\n",
       "      <td>44329.903940</td>\n",
       "      <td>44253.400252</td>\n",
       "      <td>44291.562309</td>\n",
       "      <td>57.039721</td>\n",
       "      <td>1.619954e+12</td>\n",
       "      <td>2.450697e+06</td>\n",
       "      <td>1420.229265</td>\n",
       "      <td>28.079218</td>\n",
       "      <td>1.206923e+06</td>\n",
       "      <td>0.0</td>\n",
       "    </tr>\n",
       "    <tr>\n",
       "      <th>std</th>\n",
       "      <td>6.061868e+09</td>\n",
       "      <td>9600.903307</td>\n",
       "      <td>9602.704045</td>\n",
       "      <td>9598.646857</td>\n",
       "      <td>9600.898419</td>\n",
       "      <td>70.018457</td>\n",
       "      <td>6.061868e+09</td>\n",
       "      <td>2.843840e+06</td>\n",
       "      <td>1203.971846</td>\n",
       "      <td>36.765979</td>\n",
       "      <td>1.508756e+06</td>\n",
       "      <td>0.0</td>\n",
       "    </tr>\n",
       "    <tr>\n",
       "      <th>min</th>\n",
       "      <td>1.609459e+12</td>\n",
       "      <td>28241.950000</td>\n",
       "      <td>28764.230000</td>\n",
       "      <td>28130.000000</td>\n",
       "      <td>28235.470000</td>\n",
       "      <td>0.000000</td>\n",
       "      <td>1.609459e+12</td>\n",
       "      <td>0.000000e+00</td>\n",
       "      <td>0.000000</td>\n",
       "      <td>0.000000</td>\n",
       "      <td>0.000000e+00</td>\n",
       "      <td>0.0</td>\n",
       "    </tr>\n",
       "    <tr>\n",
       "      <th>25%</th>\n",
       "      <td>1.614700e+12</td>\n",
       "      <td>35398.997500</td>\n",
       "      <td>35436.632500</td>\n",
       "      <td>35360.000000</td>\n",
       "      <td>35399.000000</td>\n",
       "      <td>23.102220</td>\n",
       "      <td>1.614700e+12</td>\n",
       "      <td>1.012094e+06</td>\n",
       "      <td>776.000000</td>\n",
       "      <td>10.716988</td>\n",
       "      <td>4.689843e+05</td>\n",
       "      <td>0.0</td>\n",
       "    </tr>\n",
       "    <tr>\n",
       "      <th>50%</th>\n",
       "      <td>1.619967e+12</td>\n",
       "      <td>43857.955000</td>\n",
       "      <td>43915.200000</td>\n",
       "      <td>43800.025000</td>\n",
       "      <td>43858.660000</td>\n",
       "      <td>37.500648</td>\n",
       "      <td>1.619967e+12</td>\n",
       "      <td>1.668570e+06</td>\n",
       "      <td>1136.000000</td>\n",
       "      <td>17.937238</td>\n",
       "      <td>7.979389e+05</td>\n",
       "      <td>0.0</td>\n",
       "    </tr>\n",
       "    <tr>\n",
       "      <th>75%</th>\n",
       "      <td>1.625202e+12</td>\n",
       "      <td>53726.977500</td>\n",
       "      <td>53778.482500</td>\n",
       "      <td>53676.937500</td>\n",
       "      <td>53726.970000</td>\n",
       "      <td>64.550522</td>\n",
       "      <td>1.625203e+12</td>\n",
       "      <td>2.831762e+06</td>\n",
       "      <td>1677.000000</td>\n",
       "      <td>31.669046</td>\n",
       "      <td>1.389989e+06</td>\n",
       "      <td>0.0</td>\n",
       "    </tr>\n",
       "    <tr>\n",
       "      <th>max</th>\n",
       "      <td>1.630454e+12</td>\n",
       "      <td>64800.000000</td>\n",
       "      <td>64854.000000</td>\n",
       "      <td>64685.170000</td>\n",
       "      <td>64800.000000</td>\n",
       "      <td>2636.713888</td>\n",
       "      <td>1.630454e+12</td>\n",
       "      <td>1.136863e+08</td>\n",
       "      <td>42282.000000</td>\n",
       "      <td>2014.965612</td>\n",
       "      <td>8.947551e+07</td>\n",
       "      <td>0.0</td>\n",
       "    </tr>\n",
       "  </tbody>\n",
       "</table>\n",
       "</div>"
      ],
      "text/plain": [
       "          open_time           open           high            low          close         volume    close_time  quote_asset_vol     num_trades  taker_buy_base_asset_vol  taker_buy_quote_asset_vol  ignore_this\n",
       "count  3.492900e+05  349290.000000  349290.000000  349290.000000  349290.000000  349290.000000  3.492900e+05     3.492900e+05  349290.000000             349290.000000               3.492900e+05     349290.0\n",
       "mean   1.619954e+12   44291.498376   44329.903940   44253.400252   44291.562309      57.039721  1.619954e+12     2.450697e+06    1420.229265                 28.079218               1.206923e+06          0.0\n",
       "std    6.061868e+09    9600.903307    9602.704045    9598.646857    9600.898419      70.018457  6.061868e+09     2.843840e+06    1203.971846                 36.765979               1.508756e+06          0.0\n",
       "min    1.609459e+12   28241.950000   28764.230000   28130.000000   28235.470000       0.000000  1.609459e+12     0.000000e+00       0.000000                  0.000000               0.000000e+00          0.0\n",
       "25%    1.614700e+12   35398.997500   35436.632500   35360.000000   35399.000000      23.102220  1.614700e+12     1.012094e+06     776.000000                 10.716988               4.689843e+05          0.0\n",
       "50%    1.619967e+12   43857.955000   43915.200000   43800.025000   43858.660000      37.500648  1.619967e+12     1.668570e+06    1136.000000                 17.937238               7.979389e+05          0.0\n",
       "75%    1.625202e+12   53726.977500   53778.482500   53676.937500   53726.970000      64.550522  1.625203e+12     2.831762e+06    1677.000000                 31.669046               1.389989e+06          0.0\n",
       "max    1.630454e+12   64800.000000   64854.000000   64685.170000   64800.000000    2636.713888  1.630454e+12     1.136863e+08   42282.000000               2014.965612               8.947551e+07          0.0"
      ]
     },
     "execution_count": 46,
     "metadata": {},
     "output_type": "execute_result"
    }
   ],
   "source": [
    "df.describe()"
   ]
  },
  {
   "cell_type": "markdown",
   "id": "5b0c3d49",
   "metadata": {},
   "source": [
    "# Feature engineering"
   ]
  },
  {
   "cell_type": "code",
   "execution_count": 47,
   "id": "89bdd6e1",
   "metadata": {
    "ExecuteTime": {
     "end_time": "2021-09-03T10:49:10.543519Z",
     "start_time": "2021-09-03T10:49:10.533225Z"
    }
   },
   "outputs": [
    {
     "data": {
      "text/html": [
       "<div>\n",
       "<style scoped>\n",
       "    .dataframe tbody tr th:only-of-type {\n",
       "        vertical-align: middle;\n",
       "    }\n",
       "\n",
       "    .dataframe tbody tr th {\n",
       "        vertical-align: top;\n",
       "    }\n",
       "\n",
       "    .dataframe thead th {\n",
       "        text-align: right;\n",
       "    }\n",
       "</style>\n",
       "<table border=\"1\" class=\"dataframe\">\n",
       "  <thead>\n",
       "    <tr style=\"text-align: right;\">\n",
       "      <th></th>\n",
       "      <th>open_time</th>\n",
       "      <th>open</th>\n",
       "      <th>high</th>\n",
       "      <th>low</th>\n",
       "      <th>close</th>\n",
       "      <th>volume</th>\n",
       "      <th>close_time</th>\n",
       "      <th>quote_asset_vol</th>\n",
       "      <th>num_trades</th>\n",
       "      <th>taker_buy_base_asset_vol</th>\n",
       "      <th>taker_buy_quote_asset_vol</th>\n",
       "      <th>ignore_this</th>\n",
       "      <th>day</th>\n",
       "    </tr>\n",
       "  </thead>\n",
       "  <tbody>\n",
       "    <tr>\n",
       "      <th>0</th>\n",
       "      <td>1609459200000</td>\n",
       "      <td>28923.63</td>\n",
       "      <td>28961.66</td>\n",
       "      <td>28913.12</td>\n",
       "      <td>28961.66</td>\n",
       "      <td>27.457032</td>\n",
       "      <td>1609459259999</td>\n",
       "      <td>7.943820e+05</td>\n",
       "      <td>1292</td>\n",
       "      <td>16.777195</td>\n",
       "      <td>485390.826825</td>\n",
       "      <td>0.0</td>\n",
       "      <td>2021-01-01</td>\n",
       "    </tr>\n",
       "    <tr>\n",
       "      <th>1</th>\n",
       "      <td>1609459260000</td>\n",
       "      <td>28961.67</td>\n",
       "      <td>29017.50</td>\n",
       "      <td>28961.01</td>\n",
       "      <td>29009.91</td>\n",
       "      <td>58.477501</td>\n",
       "      <td>1609459319999</td>\n",
       "      <td>1.695803e+06</td>\n",
       "      <td>1651</td>\n",
       "      <td>33.733818</td>\n",
       "      <td>978176.468202</td>\n",
       "      <td>0.0</td>\n",
       "      <td>2021-01-01</td>\n",
       "    </tr>\n",
       "    <tr>\n",
       "      <th>2</th>\n",
       "      <td>1609459320000</td>\n",
       "      <td>29009.54</td>\n",
       "      <td>29016.71</td>\n",
       "      <td>28973.58</td>\n",
       "      <td>28989.30</td>\n",
       "      <td>42.470329</td>\n",
       "      <td>1609459379999</td>\n",
       "      <td>1.231359e+06</td>\n",
       "      <td>986</td>\n",
       "      <td>13.247444</td>\n",
       "      <td>384076.854453</td>\n",
       "      <td>0.0</td>\n",
       "      <td>2021-01-01</td>\n",
       "    </tr>\n",
       "    <tr>\n",
       "      <th>3</th>\n",
       "      <td>1609459380000</td>\n",
       "      <td>28989.68</td>\n",
       "      <td>28999.85</td>\n",
       "      <td>28972.33</td>\n",
       "      <td>28982.69</td>\n",
       "      <td>30.360677</td>\n",
       "      <td>1609459439999</td>\n",
       "      <td>8.800168e+05</td>\n",
       "      <td>959</td>\n",
       "      <td>9.456028</td>\n",
       "      <td>274083.075142</td>\n",
       "      <td>0.0</td>\n",
       "      <td>2021-01-01</td>\n",
       "    </tr>\n",
       "    <tr>\n",
       "      <th>4</th>\n",
       "      <td>1609459440000</td>\n",
       "      <td>28982.67</td>\n",
       "      <td>28995.93</td>\n",
       "      <td>28971.80</td>\n",
       "      <td>28975.65</td>\n",
       "      <td>24.124339</td>\n",
       "      <td>1609459499999</td>\n",
       "      <td>6.992262e+05</td>\n",
       "      <td>726</td>\n",
       "      <td>6.814644</td>\n",
       "      <td>197519.374888</td>\n",
       "      <td>0.0</td>\n",
       "      <td>2021-01-01</td>\n",
       "    </tr>\n",
       "  </tbody>\n",
       "</table>\n",
       "</div>"
      ],
      "text/plain": [
       "       open_time      open      high       low     close     volume     close_time  quote_asset_vol  num_trades  taker_buy_base_asset_vol  taker_buy_quote_asset_vol  ignore_this         day\n",
       "0  1609459200000  28923.63  28961.66  28913.12  28961.66  27.457032  1609459259999     7.943820e+05        1292                 16.777195              485390.826825          0.0  2021-01-01\n",
       "1  1609459260000  28961.67  29017.50  28961.01  29009.91  58.477501  1609459319999     1.695803e+06        1651                 33.733818              978176.468202          0.0  2021-01-01\n",
       "2  1609459320000  29009.54  29016.71  28973.58  28989.30  42.470329  1609459379999     1.231359e+06         986                 13.247444              384076.854453          0.0  2021-01-01\n",
       "3  1609459380000  28989.68  28999.85  28972.33  28982.69  30.360677  1609459439999     8.800168e+05         959                  9.456028              274083.075142          0.0  2021-01-01\n",
       "4  1609459440000  28982.67  28995.93  28971.80  28975.65  24.124339  1609459499999     6.992262e+05         726                  6.814644              197519.374888          0.0  2021-01-01"
      ]
     },
     "execution_count": 47,
     "metadata": {},
     "output_type": "execute_result"
    }
   ],
   "source": [
    "df.head()"
   ]
  },
  {
   "cell_type": "markdown",
   "id": "8f433a4d",
   "metadata": {},
   "source": [
    "## Drop some columns"
   ]
  },
  {
   "cell_type": "code",
   "execution_count": 48,
   "id": "8302ba33",
   "metadata": {
    "ExecuteTime": {
     "end_time": "2021-09-03T10:49:10.749490Z",
     "start_time": "2021-09-03T10:49:10.741493Z"
    }
   },
   "outputs": [],
   "source": [
    "cols_to_drop = [\n",
    "    \"close_time\",\n",
    "    \"quote_asset_vol\",\n",
    "    \"taker_buy_base_asset_vol\",\n",
    "    \"taker_buy_quote_asset_vol\",\n",
    "    \"ignore_this\"\n",
    "]\n",
    "\n",
    "df.drop(cols_to_drop, axis=1, inplace=True)"
   ]
  },
  {
   "cell_type": "code",
   "execution_count": 49,
   "id": "b48f768b",
   "metadata": {
    "ExecuteTime": {
     "end_time": "2021-09-03T10:49:11.147517Z",
     "start_time": "2021-09-03T10:49:11.125042Z"
    }
   },
   "outputs": [
    {
     "data": {
      "text/html": [
       "<div>\n",
       "<style scoped>\n",
       "    .dataframe tbody tr th:only-of-type {\n",
       "        vertical-align: middle;\n",
       "    }\n",
       "\n",
       "    .dataframe tbody tr th {\n",
       "        vertical-align: top;\n",
       "    }\n",
       "\n",
       "    .dataframe thead th {\n",
       "        text-align: right;\n",
       "    }\n",
       "</style>\n",
       "<table border=\"1\" class=\"dataframe\">\n",
       "  <thead>\n",
       "    <tr style=\"text-align: right;\">\n",
       "      <th></th>\n",
       "      <th>open_time</th>\n",
       "      <th>open</th>\n",
       "      <th>high</th>\n",
       "      <th>low</th>\n",
       "      <th>close</th>\n",
       "      <th>volume</th>\n",
       "      <th>num_trades</th>\n",
       "      <th>day</th>\n",
       "    </tr>\n",
       "  </thead>\n",
       "  <tbody>\n",
       "    <tr>\n",
       "      <th>0</th>\n",
       "      <td>1609459200000</td>\n",
       "      <td>28923.63</td>\n",
       "      <td>28961.66</td>\n",
       "      <td>28913.12</td>\n",
       "      <td>28961.66</td>\n",
       "      <td>27.457032</td>\n",
       "      <td>1292</td>\n",
       "      <td>2021-01-01</td>\n",
       "    </tr>\n",
       "    <tr>\n",
       "      <th>1</th>\n",
       "      <td>1609459260000</td>\n",
       "      <td>28961.67</td>\n",
       "      <td>29017.50</td>\n",
       "      <td>28961.01</td>\n",
       "      <td>29009.91</td>\n",
       "      <td>58.477501</td>\n",
       "      <td>1651</td>\n",
       "      <td>2021-01-01</td>\n",
       "    </tr>\n",
       "    <tr>\n",
       "      <th>2</th>\n",
       "      <td>1609459320000</td>\n",
       "      <td>29009.54</td>\n",
       "      <td>29016.71</td>\n",
       "      <td>28973.58</td>\n",
       "      <td>28989.30</td>\n",
       "      <td>42.470329</td>\n",
       "      <td>986</td>\n",
       "      <td>2021-01-01</td>\n",
       "    </tr>\n",
       "    <tr>\n",
       "      <th>3</th>\n",
       "      <td>1609459380000</td>\n",
       "      <td>28989.68</td>\n",
       "      <td>28999.85</td>\n",
       "      <td>28972.33</td>\n",
       "      <td>28982.69</td>\n",
       "      <td>30.360677</td>\n",
       "      <td>959</td>\n",
       "      <td>2021-01-01</td>\n",
       "    </tr>\n",
       "    <tr>\n",
       "      <th>4</th>\n",
       "      <td>1609459440000</td>\n",
       "      <td>28982.67</td>\n",
       "      <td>28995.93</td>\n",
       "      <td>28971.80</td>\n",
       "      <td>28975.65</td>\n",
       "      <td>24.124339</td>\n",
       "      <td>726</td>\n",
       "      <td>2021-01-01</td>\n",
       "    </tr>\n",
       "  </tbody>\n",
       "</table>\n",
       "</div>"
      ],
      "text/plain": [
       "       open_time      open      high       low     close     volume  num_trades         day\n",
       "0  1609459200000  28923.63  28961.66  28913.12  28961.66  27.457032        1292  2021-01-01\n",
       "1  1609459260000  28961.67  29017.50  28961.01  29009.91  58.477501        1651  2021-01-01\n",
       "2  1609459320000  29009.54  29016.71  28973.58  28989.30  42.470329         986  2021-01-01\n",
       "3  1609459380000  28989.68  28999.85  28972.33  28982.69  30.360677         959  2021-01-01\n",
       "4  1609459440000  28982.67  28995.93  28971.80  28975.65  24.124339         726  2021-01-01"
      ]
     },
     "execution_count": 49,
     "metadata": {},
     "output_type": "execute_result"
    }
   ],
   "source": [
    "df.head()"
   ]
  },
  {
   "cell_type": "markdown",
   "id": "50c263da",
   "metadata": {},
   "source": [
    "## Datetime semantics"
   ]
  },
  {
   "cell_type": "code",
   "execution_count": 50,
   "id": "9f82078d",
   "metadata": {
    "ExecuteTime": {
     "end_time": "2021-09-03T10:49:11.681142Z",
     "start_time": "2021-09-03T10:49:11.640321Z"
    }
   },
   "outputs": [],
   "source": [
    "df[\"quarter\"] = pd.to_datetime(df[\"day\"]).dt.quarter"
   ]
  },
  {
   "cell_type": "code",
   "execution_count": 51,
   "id": "756b7e2a",
   "metadata": {
    "ExecuteTime": {
     "end_time": "2021-09-03T10:49:12.027317Z",
     "start_time": "2021-09-03T10:49:11.979650Z"
    }
   },
   "outputs": [],
   "source": [
    "df[\"month_of_year\"] = pd.to_datetime(df[\"day\"]).dt.month"
   ]
  },
  {
   "cell_type": "code",
   "execution_count": 52,
   "id": "bf82b362",
   "metadata": {
    "ExecuteTime": {
     "end_time": "2021-09-03T10:49:12.399455Z",
     "start_time": "2021-09-03T10:49:12.313755Z"
    }
   },
   "outputs": [],
   "source": [
    "df[\"week_of_year\"] = pd.to_datetime(df[\"day\"]).dt.isocalendar().week"
   ]
  },
  {
   "cell_type": "code",
   "execution_count": 53,
   "id": "30a394b9",
   "metadata": {
    "ExecuteTime": {
     "end_time": "2021-09-03T10:49:12.717872Z",
     "start_time": "2021-09-03T10:49:12.664852Z"
    }
   },
   "outputs": [],
   "source": [
    "df[\"day_of_month\"] = pd.to_datetime(df[\"day\"]).dt.day"
   ]
  },
  {
   "cell_type": "code",
   "execution_count": 54,
   "id": "2e8b38b3",
   "metadata": {
    "ExecuteTime": {
     "end_time": "2021-09-03T10:49:12.981359Z",
     "start_time": "2021-09-03T10:49:12.933990Z"
    }
   },
   "outputs": [],
   "source": [
    "df[\"day_of_week\"] = pd.to_datetime(df[\"day\"]).dt.dayofweek"
   ]
  },
  {
   "cell_type": "code",
   "execution_count": 63,
   "id": "f4174c5a",
   "metadata": {
    "ExecuteTime": {
     "end_time": "2021-09-03T10:54:18.799080Z",
     "start_time": "2021-09-03T10:54:18.763249Z"
    }
   },
   "outputs": [],
   "source": [
    "df[\"hour_of_day\"] = pd.to_datetime(df[\"open_time\"], unit=\"ms\").dt.hour"
   ]
  },
  {
   "cell_type": "code",
   "execution_count": 65,
   "id": "5f9c754e",
   "metadata": {
    "ExecuteTime": {
     "end_time": "2021-09-03T10:54:29.959116Z",
     "start_time": "2021-09-03T10:54:29.930676Z"
    }
   },
   "outputs": [],
   "source": [
    "df[\"minute_of_hour\"] = pd.to_datetime(df[\"open_time\"], unit=\"ms\").dt.minute"
   ]
  },
  {
   "cell_type": "code",
   "execution_count": 66,
   "id": "ce7f1dd2",
   "metadata": {
    "ExecuteTime": {
     "end_time": "2021-09-03T10:54:30.699595Z",
     "start_time": "2021-09-03T10:54:30.688144Z"
    }
   },
   "outputs": [
    {
     "data": {
      "text/html": [
       "<div>\n",
       "<style scoped>\n",
       "    .dataframe tbody tr th:only-of-type {\n",
       "        vertical-align: middle;\n",
       "    }\n",
       "\n",
       "    .dataframe tbody tr th {\n",
       "        vertical-align: top;\n",
       "    }\n",
       "\n",
       "    .dataframe thead th {\n",
       "        text-align: right;\n",
       "    }\n",
       "</style>\n",
       "<table border=\"1\" class=\"dataframe\">\n",
       "  <thead>\n",
       "    <tr style=\"text-align: right;\">\n",
       "      <th></th>\n",
       "      <th>open_time</th>\n",
       "      <th>open</th>\n",
       "      <th>high</th>\n",
       "      <th>low</th>\n",
       "      <th>close</th>\n",
       "      <th>volume</th>\n",
       "      <th>num_trades</th>\n",
       "      <th>day</th>\n",
       "      <th>quarter</th>\n",
       "      <th>month_of_year</th>\n",
       "      <th>week_of_year</th>\n",
       "      <th>day_of_month</th>\n",
       "      <th>day_of_week</th>\n",
       "      <th>hour_of_day</th>\n",
       "      <th>minute_of_hour</th>\n",
       "    </tr>\n",
       "  </thead>\n",
       "  <tbody>\n",
       "    <tr>\n",
       "      <th>0</th>\n",
       "      <td>1609459200000</td>\n",
       "      <td>28923.63</td>\n",
       "      <td>28961.66</td>\n",
       "      <td>28913.12</td>\n",
       "      <td>28961.66</td>\n",
       "      <td>27.457032</td>\n",
       "      <td>1292</td>\n",
       "      <td>2021-01-01</td>\n",
       "      <td>1</td>\n",
       "      <td>1</td>\n",
       "      <td>53</td>\n",
       "      <td>1</td>\n",
       "      <td>4</td>\n",
       "      <td>0</td>\n",
       "      <td>0</td>\n",
       "    </tr>\n",
       "    <tr>\n",
       "      <th>1</th>\n",
       "      <td>1609459260000</td>\n",
       "      <td>28961.67</td>\n",
       "      <td>29017.50</td>\n",
       "      <td>28961.01</td>\n",
       "      <td>29009.91</td>\n",
       "      <td>58.477501</td>\n",
       "      <td>1651</td>\n",
       "      <td>2021-01-01</td>\n",
       "      <td>1</td>\n",
       "      <td>1</td>\n",
       "      <td>53</td>\n",
       "      <td>1</td>\n",
       "      <td>4</td>\n",
       "      <td>0</td>\n",
       "      <td>1</td>\n",
       "    </tr>\n",
       "    <tr>\n",
       "      <th>2</th>\n",
       "      <td>1609459320000</td>\n",
       "      <td>29009.54</td>\n",
       "      <td>29016.71</td>\n",
       "      <td>28973.58</td>\n",
       "      <td>28989.30</td>\n",
       "      <td>42.470329</td>\n",
       "      <td>986</td>\n",
       "      <td>2021-01-01</td>\n",
       "      <td>1</td>\n",
       "      <td>1</td>\n",
       "      <td>53</td>\n",
       "      <td>1</td>\n",
       "      <td>4</td>\n",
       "      <td>0</td>\n",
       "      <td>2</td>\n",
       "    </tr>\n",
       "    <tr>\n",
       "      <th>3</th>\n",
       "      <td>1609459380000</td>\n",
       "      <td>28989.68</td>\n",
       "      <td>28999.85</td>\n",
       "      <td>28972.33</td>\n",
       "      <td>28982.69</td>\n",
       "      <td>30.360677</td>\n",
       "      <td>959</td>\n",
       "      <td>2021-01-01</td>\n",
       "      <td>1</td>\n",
       "      <td>1</td>\n",
       "      <td>53</td>\n",
       "      <td>1</td>\n",
       "      <td>4</td>\n",
       "      <td>0</td>\n",
       "      <td>3</td>\n",
       "    </tr>\n",
       "    <tr>\n",
       "      <th>4</th>\n",
       "      <td>1609459440000</td>\n",
       "      <td>28982.67</td>\n",
       "      <td>28995.93</td>\n",
       "      <td>28971.80</td>\n",
       "      <td>28975.65</td>\n",
       "      <td>24.124339</td>\n",
       "      <td>726</td>\n",
       "      <td>2021-01-01</td>\n",
       "      <td>1</td>\n",
       "      <td>1</td>\n",
       "      <td>53</td>\n",
       "      <td>1</td>\n",
       "      <td>4</td>\n",
       "      <td>0</td>\n",
       "      <td>4</td>\n",
       "    </tr>\n",
       "  </tbody>\n",
       "</table>\n",
       "</div>"
      ],
      "text/plain": [
       "       open_time      open      high       low     close     volume  num_trades         day  quarter  month_of_year  week_of_year  day_of_month  day_of_week  hour_of_day  minute_of_hour\n",
       "0  1609459200000  28923.63  28961.66  28913.12  28961.66  27.457032        1292  2021-01-01        1              1            53             1            4            0               0\n",
       "1  1609459260000  28961.67  29017.50  28961.01  29009.91  58.477501        1651  2021-01-01        1              1            53             1            4            0               1\n",
       "2  1609459320000  29009.54  29016.71  28973.58  28989.30  42.470329         986  2021-01-01        1              1            53             1            4            0               2\n",
       "3  1609459380000  28989.68  28999.85  28972.33  28982.69  30.360677         959  2021-01-01        1              1            53             1            4            0               3\n",
       "4  1609459440000  28982.67  28995.93  28971.80  28975.65  24.124339         726  2021-01-01        1              1            53             1            4            0               4"
      ]
     },
     "execution_count": 66,
     "metadata": {},
     "output_type": "execute_result"
    }
   ],
   "source": [
    "df.head()"
   ]
  },
  {
   "cell_type": "code",
   "execution_count": 67,
   "id": "984eff0f",
   "metadata": {
    "ExecuteTime": {
     "end_time": "2021-09-03T10:54:39.882135Z",
     "start_time": "2021-09-03T10:54:39.877471Z"
    }
   },
   "outputs": [
    {
     "data": {
      "text/plain": [
       "array([ 0,  1,  2,  3,  4,  5,  6,  7,  8,  9, 10, 11, 12, 13, 14, 15, 16,\n",
       "       17, 18, 19, 20, 21, 22, 23, 24, 25, 26, 27, 28, 29, 30, 31, 32, 33,\n",
       "       34, 35, 36, 37, 38, 39, 40, 41, 42, 43, 44, 45, 46, 47, 48, 49, 50,\n",
       "       51, 52, 53, 54, 55, 56, 57, 58, 59])"
      ]
     },
     "execution_count": 67,
     "metadata": {},
     "output_type": "execute_result"
    }
   ],
   "source": [
    "df[\"minute_of_hour\"].unique()"
   ]
  },
  {
   "cell_type": "code",
   "execution_count": null,
   "id": "dbc2629a",
   "metadata": {},
   "outputs": [],
   "source": []
  },
  {
   "cell_type": "code",
   "execution_count": null,
   "id": "ef302e90",
   "metadata": {},
   "outputs": [],
   "source": []
  },
  {
   "cell_type": "markdown",
   "id": "8107e2e3",
   "metadata": {},
   "source": [
    "# Place holder"
   ]
  },
  {
   "cell_type": "code",
   "execution_count": null,
   "id": "f3c1938e",
   "metadata": {},
   "outputs": [],
   "source": []
  }
 ],
 "metadata": {
  "kernelspec": {
   "display_name": "Python 3 (ipykernel)",
   "language": "python",
   "name": "python3"
  },
  "language_info": {
   "codemirror_mode": {
    "name": "ipython",
    "version": 3
   },
   "file_extension": ".py",
   "mimetype": "text/x-python",
   "name": "python",
   "nbconvert_exporter": "python",
   "pygments_lexer": "ipython3",
   "version": "3.9.5"
  }
 },
 "nbformat": 4,
 "nbformat_minor": 5
}
