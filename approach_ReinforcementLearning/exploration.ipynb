{
 "cells": [
  {
   "cell_type": "markdown",
   "id": "abf18cdd",
   "metadata": {},
   "source": [
    "# Imports"
   ]
  },
  {
   "cell_type": "code",
   "execution_count": null,
   "id": "a1de465e",
   "metadata": {
    "ExecuteTime": {
     "end_time": "2021-09-24T00:55:28.796267Z",
     "start_time": "2021-09-24T00:55:28.356195Z"
    }
   },
   "outputs": [],
   "source": [
    "import pandas as pd\n",
    "import pyarrow as pa\n",
    "import numpy as np\n",
    "\n",
    "from tqdm import tqdm\n",
    "from datetime import datetime, timedelta"
   ]
  },
  {
   "cell_type": "code",
   "execution_count": null,
   "id": "2fac9bca",
   "metadata": {
    "ExecuteTime": {
     "end_time": "2021-09-24T00:55:28.805816Z",
     "start_time": "2021-09-24T00:55:28.797695Z"
    }
   },
   "outputs": [],
   "source": [
    "pd.set_option('display.max_rows', 500)\n",
    "pd.set_option('display.max_columns', 500)\n",
    "pd.set_option('display.width', 1000)\n",
    "\n",
    "from IPython.core.display import display, HTML\n",
    "display(HTML(\"<style>.container { width:85% !important; }</style>\"))"
   ]
  },
  {
   "cell_type": "markdown",
   "id": "9a2170b3",
   "metadata": {},
   "source": [
    "# Read Data\n",
    "\n",
    "If you do not have the data then please run the *data-collector.ipynb* notebook and collect the specific crypto symbol you want to simulate.\n",
    "\n",
    "In the future I will probably change this to a streamlit utility to make it much more user friendly but I am lazy and this is a prototype"
   ]
  },
  {
   "cell_type": "code",
   "execution_count": null,
   "id": "35d9ee35",
   "metadata": {
    "ExecuteTime": {
     "end_time": "2021-09-24T00:55:29.603597Z",
     "start_time": "2021-09-24T00:55:28.807224Z"
    }
   },
   "outputs": [],
   "source": [
    "symbol = \"BTCUSDT\"\n",
    "\n",
    "df = pd.read_parquet(f\"../data_binance_crypto/symbol={symbol}/\", engine=\"pyarrow\")\n",
    "df.shape"
   ]
  },
  {
   "cell_type": "code",
   "execution_count": null,
   "id": "52d014a3",
   "metadata": {
    "ExecuteTime": {
     "end_time": "2021-09-24T00:55:29.616749Z",
     "start_time": "2021-09-24T00:55:29.605438Z"
    }
   },
   "outputs": [],
   "source": [
    "df.head()"
   ]
  },
  {
   "cell_type": "markdown",
   "id": "f3894b4a",
   "metadata": {},
   "source": [
    "## Quick and simple EDA"
   ]
  },
  {
   "cell_type": "code",
   "execution_count": null,
   "id": "5f184855",
   "metadata": {
    "ExecuteTime": {
     "end_time": "2021-09-24T00:55:29.754356Z",
     "start_time": "2021-09-24T00:55:29.617907Z"
    }
   },
   "outputs": [],
   "source": [
    "df.isna().sum()"
   ]
  },
  {
   "cell_type": "code",
   "execution_count": null,
   "id": "7ec6840b",
   "metadata": {
    "ExecuteTime": {
     "end_time": "2021-09-24T00:55:29.760791Z",
     "start_time": "2021-09-24T00:55:29.755457Z"
    }
   },
   "outputs": [],
   "source": [
    "columns = df.columns\n",
    "for col in sorted(columns):\n",
    "    print(f\"Col: {col.ljust(40, ' '):40} Type: {df[col].dtype}\")"
   ]
  },
  {
   "cell_type": "code",
   "execution_count": null,
   "id": "5d9fa82a",
   "metadata": {
    "ExecuteTime": {
     "end_time": "2021-09-24T00:55:30.187395Z",
     "start_time": "2021-09-24T00:55:29.761770Z"
    }
   },
   "outputs": [],
   "source": [
    "float_columns = [\n",
    "    \"open\",\n",
    "    \"high\",\n",
    "    \"low\",\n",
    "    \"close\",\n",
    "    \"volume\",\n",
    "    \"quote_asset_vol\",\n",
    "    \"taker_buy_base_asset_vol\",\n",
    "    \"taker_buy_quote_asset_vol\",\n",
    "    \"ignore_this\",\n",
    "]\n",
    "\n",
    "for col in float_columns:\n",
    "    df[col] = df[col].astype(float)"
   ]
  },
  {
   "cell_type": "code",
   "execution_count": null,
   "id": "1317907c",
   "metadata": {
    "ExecuteTime": {
     "end_time": "2021-09-24T00:55:30.311143Z",
     "start_time": "2021-09-24T00:55:30.188458Z"
    }
   },
   "outputs": [],
   "source": [
    "df.describe()"
   ]
  },
  {
   "cell_type": "markdown",
   "id": "5b0c3d49",
   "metadata": {},
   "source": [
    "# Feature engineering\n",
    "\n",
    "Initially this is going to be a bunch of *traditionally useful* financial features. In the paraphrased words of our boy Ernest Chan, \"throw heaps of features at your models during prototyping, let the model decide what it thinks is important, it is probably smarter than you.\"\n",
    "\n",
    "^This is obviously a joke taken to extremes but you get the point. Who are we to decide what is a \"good feature\", if we want to find some form of market inefficieny then why not try everything and use feature selection to trim down our list for us.\n",
    "\n",
    "According to this, https://arxiv.org/abs/2005.12483, LIME is just as promising as SHAP so I am eager to explore this. If it fails we can always fall back on good old SHAP\n",
    "\n",
    "***Disclaimer***: To be frank, the choice for the rolling window size was totally arbitrary"
   ]
  },
  {
   "cell_type": "code",
   "execution_count": null,
   "id": "5e6070bf",
   "metadata": {
    "ExecuteTime": {
     "end_time": "2021-09-24T00:55:30.314653Z",
     "start_time": "2021-09-24T00:55:30.312116Z"
    }
   },
   "outputs": [],
   "source": [
    "rolling_window_size = 5"
   ]
  },
  {
   "cell_type": "code",
   "execution_count": null,
   "id": "89bdd6e1",
   "metadata": {
    "ExecuteTime": {
     "end_time": "2021-09-24T00:55:30.327767Z",
     "start_time": "2021-09-24T00:55:30.316776Z"
    }
   },
   "outputs": [],
   "source": [
    "df.head()"
   ]
  },
  {
   "cell_type": "markdown",
   "id": "8f433a4d",
   "metadata": {},
   "source": [
    "## Sell Conditions\n",
    "The \"taker buy\" columns come from when an order is filled based on an existing limit sell\n",
    "\n",
    "This number will always be less than the raw traded volume. This is because the raw volume will include market price sells\n",
    "\n",
    "We can therefore assume that when we take a ratio it will be a number between zero and one and represent the number of intentional sales. The inverse of this number will be the trades that come from panic selling at market or other market forces like liquidation"
   ]
  },
  {
   "cell_type": "code",
   "execution_count": null,
   "id": "46d7e414",
   "metadata": {
    "ExecuteTime": {
     "end_time": "2021-09-24T00:55:30.332168Z",
     "start_time": "2021-09-24T00:55:30.328716Z"
    }
   },
   "outputs": [],
   "source": [
    "df[\"ratio_intentional_trades\"] = df[\"taker_buy_base_asset_vol\"] / df[\"volume\"]"
   ]
  },
  {
   "cell_type": "code",
   "execution_count": null,
   "id": "85c011af",
   "metadata": {
    "ExecuteTime": {
     "end_time": "2021-09-24T00:55:30.342345Z",
     "start_time": "2021-09-24T00:55:30.333135Z"
    }
   },
   "outputs": [],
   "source": [
    "df[\"ratio_intentional_trades_ma\"] = df.rolling(rolling_window_size)[\"ratio_intentional_trades\"].mean()"
   ]
  },
  {
   "cell_type": "code",
   "execution_count": null,
   "id": "b48f768b",
   "metadata": {
    "ExecuteTime": {
     "end_time": "2021-09-24T00:55:30.356583Z",
     "start_time": "2021-09-24T00:55:30.343909Z"
    }
   },
   "outputs": [],
   "source": [
    "df.head()"
   ]
  },
  {
   "cell_type": "markdown",
   "id": "50c263da",
   "metadata": {},
   "source": [
    "## Datetime semantics"
   ]
  },
  {
   "cell_type": "markdown",
   "id": "478022b6",
   "metadata": {},
   "source": [
    "### Year based\n",
    "If assuming cyclical behaviour then we would need more cases of each cycle.\n",
    "\n",
    "Because we have only collected ~8 months of training data we will have less than one cycle making this yearly data almost useless"
   ]
  },
  {
   "cell_type": "code",
   "execution_count": null,
   "id": "9f82078d",
   "metadata": {
    "ExecuteTime": {
     "end_time": "2021-09-24T00:55:30.359666Z",
     "start_time": "2021-09-24T00:55:30.357602Z"
    }
   },
   "outputs": [],
   "source": [
    "# df[\"quarter\"] = pd.to_datetime(df[\"day\"]).dt.quarter"
   ]
  },
  {
   "cell_type": "code",
   "execution_count": null,
   "id": "756b7e2a",
   "metadata": {
    "ExecuteTime": {
     "end_time": "2021-09-24T00:55:30.363175Z",
     "start_time": "2021-09-24T00:55:30.360766Z"
    }
   },
   "outputs": [],
   "source": [
    "# df[\"month_of_year\"] = pd.to_datetime(df[\"day\"]).dt.month"
   ]
  },
  {
   "cell_type": "code",
   "execution_count": null,
   "id": "bf82b362",
   "metadata": {
    "ExecuteTime": {
     "end_time": "2021-09-24T00:55:30.369082Z",
     "start_time": "2021-09-24T00:55:30.364829Z"
    }
   },
   "outputs": [],
   "source": [
    "# df[\"week_of_year\"] = pd.to_datetime(df[\"day\"]).dt.isocalendar().week"
   ]
  },
  {
   "cell_type": "markdown",
   "id": "2cb1b3e3",
   "metadata": {},
   "source": [
    "### Month based\n",
    "\n",
    "Month based data is assuming \"Fund Flow\" interactions where you have large firms re-balancing on a monthly schedule\n",
    "\n",
    "This might not be part of crypto but could prove valuable anyways"
   ]
  },
  {
   "cell_type": "code",
   "execution_count": null,
   "id": "30a394b9",
   "metadata": {
    "ExecuteTime": {
     "end_time": "2021-09-24T00:55:30.407693Z",
     "start_time": "2021-09-24T00:55:30.370843Z"
    }
   },
   "outputs": [],
   "source": [
    "df[\"day_of_month\"] = pd.to_datetime(df[\"day\"]).dt.day"
   ]
  },
  {
   "cell_type": "code",
   "execution_count": null,
   "id": "2e8b38b3",
   "metadata": {
    "ExecuteTime": {
     "end_time": "2021-09-24T00:55:30.448042Z",
     "start_time": "2021-09-24T00:55:30.408853Z"
    }
   },
   "outputs": [],
   "source": [
    "df[\"day_of_week\"] = pd.to_datetime(df[\"day\"]).dt.dayofweek"
   ]
  },
  {
   "cell_type": "markdown",
   "id": "cb316102",
   "metadata": {},
   "source": [
    "### Day based\n",
    "\n",
    "Day based data will show the influence each region has on the price. \n",
    "\n",
    "Because crypto is traded 24/7 it doesn't have a traditional market open and close. However each region around the world still needs to sleep and work so you will end up getting cyclical regional activity.\n",
    "\n",
    "Each region has different risks and economical situations so you should get different behaviours.\n",
    "\n",
    "You might also catch algorithmic trading based on certain times of day"
   ]
  },
  {
   "cell_type": "code",
   "execution_count": null,
   "id": "f4174c5a",
   "metadata": {
    "ExecuteTime": {
     "end_time": "2021-09-24T00:55:30.478112Z",
     "start_time": "2021-09-24T00:55:30.449032Z"
    }
   },
   "outputs": [],
   "source": [
    "df[\"hour_of_day\"] = pd.to_datetime(df[\"open_time\"], unit=\"ms\").dt.hour"
   ]
  },
  {
   "cell_type": "code",
   "execution_count": null,
   "id": "5f9c754e",
   "metadata": {
    "ExecuteTime": {
     "end_time": "2021-09-24T00:55:30.507049Z",
     "start_time": "2021-09-24T00:55:30.479185Z"
    }
   },
   "outputs": [],
   "source": [
    "df[\"minute_of_hour\"] = pd.to_datetime(df[\"open_time\"], unit=\"ms\").dt.minute"
   ]
  },
  {
   "cell_type": "code",
   "execution_count": null,
   "id": "ce7f1dd2",
   "metadata": {
    "ExecuteTime": {
     "end_time": "2021-09-24T00:55:30.520666Z",
     "start_time": "2021-09-24T00:55:30.508032Z"
    }
   },
   "outputs": [],
   "source": [
    "df.head()"
   ]
  },
  {
   "cell_type": "markdown",
   "id": "19641324",
   "metadata": {},
   "source": [
    "## Make trade values stationary\n",
    "\n",
    "For timeseries data there is a concept called \"stationarity\", in short this is the act of transforming the data so that statistical properties such as mean, variance, autocorrelation, etc actually mean something for the future. \n",
    "\n",
    "Commonly this is done by converting changes in price to percentages and scaling them across your train data. The model can only act on information it has seen before, by making your data stationary it is possible that it can pick out recurring behaviour."
   ]
  },
  {
   "cell_type": "markdown",
   "id": "f4f6917b",
   "metadata": {},
   "source": [
    "### Price change\n",
    "\n",
    "Here we have the raw price change and the price change as a percentage of the opening\n",
    "\n",
    "We also want to look at a \"smoother\" price change in the form of a moving average. This is because typically when financial data is trending it isn't a nice line, it is a \"spiky\" line. By taking the moving average we lose some granularity but we can see the underlying momentum trend"
   ]
  },
  {
   "cell_type": "code",
   "execution_count": null,
   "id": "d1d4eea3",
   "metadata": {
    "ExecuteTime": {
     "end_time": "2021-09-24T00:55:30.526103Z",
     "start_time": "2021-09-24T00:55:30.521639Z"
    }
   },
   "outputs": [],
   "source": [
    "df[\"price_change\"] = df[\"close\"] - df[\"open\"]\n",
    "df[\"price_change_perc\"] =  df[\"price_change\"] / df[\"open\"]"
   ]
  },
  {
   "cell_type": "code",
   "execution_count": null,
   "id": "9d9b360d",
   "metadata": {
    "ExecuteTime": {
     "end_time": "2021-09-24T00:55:30.537762Z",
     "start_time": "2021-09-24T00:55:30.526956Z"
    }
   },
   "outputs": [],
   "source": [
    "df[\"price_change_ma\"] = df.rolling(rolling_window_size)[\"price_change\"].mean()\n",
    "df[\"price_change_perc_smooth\"] = df[\"price_change_ma\"] / df[\"open\"]"
   ]
  },
  {
   "cell_type": "code",
   "execution_count": null,
   "id": "47184b95",
   "metadata": {
    "ExecuteTime": {
     "end_time": "2021-09-24T00:55:30.571783Z",
     "start_time": "2021-09-24T00:55:30.538740Z"
    },
    "scrolled": true
   },
   "outputs": [],
   "source": [
    "df[[\n",
    "    \"open\",\n",
    "    \"close\",\n",
    "    \"price_change\",\n",
    "    \"price_change_perc\",\n",
    "    \"price_change_ma\",\n",
    "    \"price_change_perc_smooth\"\n",
    "]].head(20)"
   ]
  },
  {
   "cell_type": "markdown",
   "id": "6bed5963",
   "metadata": {},
   "source": [
    "### Volatility\n",
    "\n",
    "Variance or \"volatility\" can be used to determine how stable the trading period was.\n",
    "\n",
    "Again we are using a smooth apporach to see if it helps the model."
   ]
  },
  {
   "cell_type": "code",
   "execution_count": null,
   "id": "bc31b716",
   "metadata": {
    "ExecuteTime": {
     "end_time": "2021-09-24T00:55:30.577038Z",
     "start_time": "2021-09-24T00:55:30.572755Z"
    }
   },
   "outputs": [],
   "source": [
    "df[\"volatility\"] = df[\"high\"] - df[\"low\"]\n",
    "df[\"volatility_perc\"] = df[\"volatility\"] / df[\"open\"]"
   ]
  },
  {
   "cell_type": "code",
   "execution_count": null,
   "id": "cfb15e5e",
   "metadata": {
    "ExecuteTime": {
     "end_time": "2021-09-24T00:55:30.592225Z",
     "start_time": "2021-09-24T00:55:30.579106Z"
    }
   },
   "outputs": [],
   "source": [
    "df[\"volatility_ma\"] = df.rolling(rolling_window_size)[\"volatility\"].mean()\n",
    "df[\"volatility_perc_smooth\"] = df[\"volatility_ma\"] / df[\"open\"]"
   ]
  },
  {
   "cell_type": "code",
   "execution_count": null,
   "id": "ac528b25",
   "metadata": {
    "ExecuteTime": {
     "end_time": "2021-09-24T00:55:30.628204Z",
     "start_time": "2021-09-24T00:55:30.593313Z"
    },
    "scrolled": true
   },
   "outputs": [],
   "source": [
    "df[[\n",
    "    \"high\",\n",
    "    \"low\",\n",
    "    \"volatility\",\n",
    "    \"volatility_perc\",\n",
    "    \"volatility_ma\",\n",
    "    \"volatility_perc_smooth\"\n",
    "]].head(20)"
   ]
  },
  {
   "cell_type": "markdown",
   "id": "5cff160f",
   "metadata": {},
   "source": [
    "### Volume change\n",
    "\n",
    "Volume is another indicator of stability. If the volume suddenly jumps above the norm we might expect a change in market direction. \n",
    "\n",
    "For this reason we are looking at the volume change since last time period and another smoothed version"
   ]
  },
  {
   "cell_type": "code",
   "execution_count": null,
   "id": "625eaa1f",
   "metadata": {
    "ExecuteTime": {
     "end_time": "2021-09-24T00:55:30.640233Z",
     "start_time": "2021-09-24T00:55:30.630641Z"
    }
   },
   "outputs": [],
   "source": [
    "df[\"last_volume\"] = df[\"volume\"].shift(1)\n",
    "\n",
    "df[\"volume_change\"] = df[\"volume\"] - df[\"last_volume\"]\n",
    "df[\"volume_change_perc\"] = df[\"volume_change\"] / df[\"last_volume\"]"
   ]
  },
  {
   "cell_type": "code",
   "execution_count": null,
   "id": "d410785e",
   "metadata": {
    "ExecuteTime": {
     "end_time": "2021-09-24T00:55:30.652823Z",
     "start_time": "2021-09-24T00:55:30.641323Z"
    }
   },
   "outputs": [],
   "source": [
    "df[\"volume_change_ma\"] = df.rolling(rolling_window_size)[\"volume_change\"].mean()\n",
    "df[\"volume_change_perc_smooth\"] = df[\"volume_change_ma\"] / df[\"last_volume\"]"
   ]
  },
  {
   "cell_type": "code",
   "execution_count": null,
   "id": "650fe0e0",
   "metadata": {
    "ExecuteTime": {
     "end_time": "2021-09-24T00:55:30.700133Z",
     "start_time": "2021-09-24T00:55:30.654224Z"
    },
    "scrolled": true
   },
   "outputs": [],
   "source": [
    "df[[\n",
    "    \"volume\",\n",
    "    \"last_volume\",\n",
    "    \"volume_change\",\n",
    "    \"volume_change_perc\",\n",
    "    \"volume_change_ma\",\n",
    "    \"volume_change_perc_smooth\"\n",
    "]].head(20)"
   ]
  },
  {
   "cell_type": "code",
   "execution_count": null,
   "id": "8d9bd8d7",
   "metadata": {},
   "outputs": [],
   "source": []
  },
  {
   "cell_type": "code",
   "execution_count": null,
   "id": "5ea5ebf1",
   "metadata": {},
   "outputs": [],
   "source": []
  },
  {
   "cell_type": "code",
   "execution_count": null,
   "id": "66a0e1d6",
   "metadata": {},
   "outputs": [],
   "source": []
  },
  {
   "cell_type": "code",
   "execution_count": null,
   "id": "7fb72081",
   "metadata": {},
   "outputs": [],
   "source": []
  },
  {
   "cell_type": "code",
   "execution_count": null,
   "id": "1ccd2b98",
   "metadata": {},
   "outputs": [],
   "source": []
  },
  {
   "cell_type": "code",
   "execution_count": null,
   "id": "5db23617",
   "metadata": {},
   "outputs": [],
   "source": []
  },
  {
   "cell_type": "markdown",
   "id": "f991f24b",
   "metadata": {},
   "source": [
    "## Graphs\n",
    "\n",
    "I am eager to get on to the model so will leave the feature engineering here for now, we can always return and add more to it"
   ]
  },
  {
   "cell_type": "code",
   "execution_count": null,
   "id": "465282b4",
   "metadata": {},
   "outputs": [],
   "source": []
  },
  {
   "cell_type": "code",
   "execution_count": null,
   "id": "1f2bdf63",
   "metadata": {},
   "outputs": [],
   "source": []
  },
  {
   "cell_type": "code",
   "execution_count": null,
   "id": "2ba1c6d5",
   "metadata": {
    "ExecuteTime": {
     "end_time": "2021-09-24T00:55:31.208349Z",
     "start_time": "2021-09-24T00:55:30.701412Z"
    }
   },
   "outputs": [],
   "source": [
    "import plotly.express as px\n",
    "\n",
    "fig = px.line(\n",
    "    df.tail(2000),\n",
    "    x=\"open_time\",\n",
    "    y=[\"price_change_perc\", \"price_change_perc_smooth\"],\n",
    "    height=1024\n",
    ")\n",
    "\n",
    "fig.update_traces(\n",
    "    marker=dict(\n",
    "        size=12,\n",
    "        opacity=0.7,\n",
    "        line=dict(\n",
    "            width=2,\n",
    "            color='DarkSlateGrey'\n",
    "        )\n",
    "    ),\n",
    "    selector=dict(mode='markers')\n",
    ")"
   ]
  },
  {
   "cell_type": "code",
   "execution_count": null,
   "id": "52bbe1e7",
   "metadata": {
    "ExecuteTime": {
     "end_time": "2021-09-24T00:55:31.252883Z",
     "start_time": "2021-09-24T00:55:31.209488Z"
    }
   },
   "outputs": [],
   "source": [
    "import plotly.express as px\n",
    "\n",
    "px.scatter(\n",
    "    df.tail(2000),\n",
    "    x=\"open_time\",\n",
    "    y=\"open\",\n",
    "    height=1024\n",
    ")"
   ]
  },
  {
   "cell_type": "code",
   "execution_count": null,
   "id": "7e74daaa",
   "metadata": {},
   "outputs": [],
   "source": []
  },
  {
   "cell_type": "code",
   "execution_count": null,
   "id": "94041971",
   "metadata": {},
   "outputs": [],
   "source": []
  },
  {
   "cell_type": "code",
   "execution_count": null,
   "id": "6737b54d",
   "metadata": {},
   "outputs": [],
   "source": []
  },
  {
   "cell_type": "code",
   "execution_count": null,
   "id": "318e8d3b",
   "metadata": {},
   "outputs": [],
   "source": []
  },
  {
   "cell_type": "code",
   "execution_count": null,
   "id": "73641ddc",
   "metadata": {},
   "outputs": [],
   "source": []
  },
  {
   "cell_type": "markdown",
   "id": "8107e2e3",
   "metadata": {},
   "source": [
    "# The reinforcement learning"
   ]
  },
  {
   "cell_type": "markdown",
   "id": "d6260d04",
   "metadata": {},
   "source": [
    "## Graph visualisation"
   ]
  },
  {
   "cell_type": "code",
   "execution_count": null,
   "id": "b8caaac7",
   "metadata": {
    "ExecuteTime": {
     "end_time": "2021-09-24T00:55:31.439628Z",
     "start_time": "2021-09-24T00:55:31.254140Z"
    }
   },
   "outputs": [],
   "source": [
    "import numpy as np\n",
    "import matplotlib\n",
    "import matplotlib.pyplot as plt\n",
    "import matplotlib.dates as mdates\n",
    "\n",
    "from matplotlib import style\n",
    "\n",
    "# finance module is no longer part of matplotlib\n",
    "# see: https://github.com/matplotlib/mpl_finance\n",
    "import mplfinance as mpf\n",
    "\n",
    "\n",
    "\n",
    "style.use('dark_background')\n",
    "\n",
    "VOLUME_CHART_HEIGHT = 0.33\n",
    "\n",
    "UP_COLOUR = '#27A59A'\n",
    "DOWN_COLOUR = '#EF534F'\n",
    "UP_TEXT_COLOUR = '#73D3CC'\n",
    "DOWN_TEXT_COLOUR = '#DC2C27'\n",
    "\n",
    "\n",
    "\n",
    "class CryptoTradingGraph:\n",
    "    \"\"\"A crypto trading visualization using matplotlib made to render OpenAI gym environments\"\"\"\n",
    "\n",
    "    \n",
    "    def __init__(self, df, title=None):\n",
    "        self.df = df\n",
    "        self.net_worths = np.zeros(len(df[\"open_time\"]))\n",
    "\n",
    "        # Create a figure on screen and set the title\n",
    "        fig = plt.figure()\n",
    "        fig.suptitle(title)\n",
    "\n",
    "        # Create top subplot for net worth axis\n",
    "        self.net_worth_ax = plt.subplot2grid(\n",
    "            (6, 1), \n",
    "            (0, 0), \n",
    "            rowspan=2, \n",
    "            colspan=1\n",
    "        )\n",
    "\n",
    "        # Create bottom subplot for shared price/volume axis\n",
    "        self.price_ax = plt.subplot2grid(\n",
    "            (6, 1), \n",
    "            (2, 0), \n",
    "            rowspan=8, \n",
    "            colspan=1, \n",
    "            sharex=self.net_worth_ax\n",
    "        )\n",
    "\n",
    "        # Create a new axis for volume which shares its x-axis with price\n",
    "        self.volume_ax = self.price_ax.twinx()\n",
    "\n",
    "        # Add padding to make graph easier to view\n",
    "        plt.subplots_adjust(\n",
    "            left=0.11, \n",
    "            bottom=0.24,\n",
    "            right=0.90, \n",
    "            top=0.90, \n",
    "            wspace=0.2, \n",
    "            hspace=0\n",
    "        )\n",
    "\n",
    "        # Show the graph without blocking the rest of the program\n",
    "        plt.show(block=False)\n",
    "    \n",
    "\n",
    "    def _render_net_worth(self, current_step, net_worth, step_range, dates):\n",
    "        # Clear the frame rendered last step\n",
    "        self.net_worth_ax.clear()\n",
    "\n",
    "        # Plot net worths\n",
    "        self.net_worth_ax.plot_date(\n",
    "            dates, \n",
    "            self.net_worths[step_range], \n",
    "            '-', \n",
    "            label=\"Net Worth\"\n",
    "        )\n",
    "\n",
    "        # Show legend, which uses the label we defined for the plot above\n",
    "        self.net_worth_ax.legend()\n",
    "        legend = self.net_worth_ax.legend(loc=2, ncol=2, prop={\"size\": 8})\n",
    "        legend.get_frame().set_alpha(0.4)\n",
    "\n",
    "        last_date = self.df[\"open_time\"].values[current_step]\n",
    "        last_net_worth = self.net_worths[current_step]\n",
    "\n",
    "        # Annotate the current net worth on the net worth graph\n",
    "        self.net_worth_ax.annotate(\n",
    "            f\"{net_worth:,.2f}\", \n",
    "            (last_date, last_net_worth),\n",
    "            xytext=(last_date, last_net_worth),\n",
    "            bbox=dict(boxstyle=\"round\", fc='w', ec='k', lw=1),\n",
    "            color=\"black\",\n",
    "            fontsize=\"small\"\n",
    "        )\n",
    "\n",
    "        # Add space above and below min/max net worth\n",
    "        self.net_worth_ax.set_ylim(\n",
    "            min(self.net_worths[np.nonzero(self.net_worths)]) / 1.25, \n",
    "            max(self.net_worths) * 1.25\n",
    "        )\n",
    "\n",
    "    \n",
    "    def _render_price(self, current_step, net_worth, dates, step_range):\n",
    "        self.price_ax.clear()\n",
    "\n",
    "        candlesticks = zip(\n",
    "            dates,\n",
    "            self.df[\"open\"].values[step_range], \n",
    "            self.df[\"close\"].values[step_range],\n",
    "            self.df[\"high\"].values[step_range], \n",
    "            self.df[\"low\"].values[step_range]\n",
    "        )\n",
    "\n",
    "        # Plot price using candlestick graph from mpl_finance\n",
    "        mpf.plot(\n",
    "            self.price_ax, \n",
    "            candlesticks, \n",
    "            width=1,\n",
    "            colorup=UP_COLOUR, \n",
    "            colordown=DOWN_COLOUR,\n",
    "            type=\"candle\"\n",
    "        )\n",
    "\n",
    "        last_date = self.df[\"open_time\"].values[current_step]\n",
    "        last_close = self.df[\"close\"].values[current_step]\n",
    "        last_high = self.df[\"high\"].values[current_step]\n",
    "\n",
    "        # Print the current price to the price axis\n",
    "        self.price_ax.annotate(\n",
    "            f\"{last_close}:,.2f\", \n",
    "            (last_date, last_close),\n",
    "            xytext=(last_date, last_high),\n",
    "            bbox=dict(boxstyle='round', fc='w', ec='k', lw=1),\n",
    "            color=\"black\",\n",
    "            fontsize=\"small\"\n",
    "        )\n",
    "\n",
    "        # Shift price axis up to give volume chart space\n",
    "        ylim = self.price_ax.get_ylim()\n",
    "        self.price_ax.set_ylim(\n",
    "            ylim[0] - (ylim[1] - ylim[0]) * VOLUME_CHART_HEIGHT, \n",
    "            ylim[1]\n",
    "        )\n",
    "\n",
    "    \n",
    "    def _render_volume(self, current_step, net_worth, dates, step_range):\n",
    "        self.volume_ax.clear()\n",
    "\n",
    "        volume = np.array(self.df[\"volume\"].values[step_range])\n",
    "\n",
    "        pos = self.df[\"open\"].values[step_range] - self.df[\"close\"].values[step_range] < 0\n",
    "        neg = self.df[\"open\"].values[step_range] - self.df[\"close\"].values[step_range] > 0\n",
    "\n",
    "        self.volume_ax.bar(\n",
    "            dates[pos], \n",
    "            volume[pos], \n",
    "            color=UP_COLOUR,\n",
    "            alpha=0.4, \n",
    "            width=1, \n",
    "            align=\"center\"\n",
    "        )\n",
    "        self.volume_ax.bar(\n",
    "            dates[neg], \n",
    "            volume[neg], \n",
    "            color=DOWN_COLOUR,\n",
    "            alpha=0.4, \n",
    "            width=1, \n",
    "            align=\"center\"\n",
    "        )\n",
    "\n",
    "        # Cap volume axis height below price chart and hide ticks\n",
    "        self.volume_ax.set_ylim(0, max(volume) / VOLUME_CHART_HEIGHT)\n",
    "        self.volume_ax.yaxis.set_ticks([])\n",
    "\n",
    "    \n",
    "    def _render_trades(self, current_step, trades, step_range):\n",
    "        for trade in trades:\n",
    "            if trade[\"step\"] in step_range:\n",
    "                date = self.df[\"open_time\"].values[trade[\"step\"]]\n",
    "                high = self.df[\"high\"].values[trade[\"step\"]]\n",
    "                low = self.df[\"low\"].values[trade[\"step\"]]\n",
    "\n",
    "                if trade[\"type\"] == 'buy':\n",
    "                    high_low = low\n",
    "                    colour = UP_TEXT_COLOUR\n",
    "                else:\n",
    "                    high_low = high\n",
    "                    colour = DOWN_TEXT_COLOUR\n",
    "\n",
    "                total = f\"{trade['total']:,.2f}\"\n",
    "\n",
    "                # Print the current price to the price axis\n",
    "                self.price_ax.annotate(\n",
    "                    f\"${total:,.2f}\", \n",
    "                    (date, high_low),\n",
    "                    xytext=(date, high_low),\n",
    "                    color=colour,\n",
    "                    fontsize=8,\n",
    "                    arrowprops=(dict(color=colour))\n",
    "                )\n",
    "\n",
    "    def render(self, current_step, net_worth, trades, window_size=40):\n",
    "        self.net_worths[current_step] = net_worth\n",
    "\n",
    "        window_start = max(current_step - window_size, 0)\n",
    "        step_range = range(window_start, current_step + 1)\n",
    "\n",
    "        dates = np.array([\n",
    "            datetime.utcfromtimestamp(x).strftime(\"%Y-%m-%d %H-%M\") for x in self.df[\"open_time\"].values[step_range]\n",
    "        ])\n",
    "\n",
    "        self._render_net_worth(current_step, net_worth, step_range, dates)\n",
    "        self._render_price(current_step, net_worth, dates, step_range)\n",
    "        self._render_volume(current_step, net_worth, dates, step_range)\n",
    "        self._render_trades(current_step, trades, step_range)\n",
    "\n",
    "        # Format the date ticks to be more easily read\n",
    "        self.price_ax.set_xticklabels(\n",
    "            self.df[\"open_time\"].values[step_range], \n",
    "            rotation=45,\n",
    "            horizontalalignment=\"right\"\n",
    "        )\n",
    "\n",
    "        # Hide duplicate net worth date labels\n",
    "        plt.setp(self.net_worth_ax.get_xticklabels(), visible=False)\n",
    "\n",
    "        # Necessary to view frames before they are unrendered\n",
    "        plt.pause(0.001)\n",
    "\n",
    "    \n",
    "    def close(self):\n",
    "        plt.close()\n"
   ]
  },
  {
   "cell_type": "markdown",
   "id": "96694c6b",
   "metadata": {},
   "source": [
    "## The gym environment"
   ]
  },
  {
   "cell_type": "code",
   "execution_count": null,
   "id": "ce5b383d",
   "metadata": {
    "ExecuteTime": {
     "end_time": "2021-09-24T01:06:50.075538Z",
     "start_time": "2021-09-24T01:06:50.060856Z"
    }
   },
   "outputs": [],
   "source": [
    "import gym\n",
    "\n",
    "from gym import spaces\n",
    "from sklearn import preprocessing\n",
    "\n",
    "\n",
    "\n",
    "MAX_TRADING_SESSION = 100000  # ~2 months\n",
    "\n",
    "\n",
    "\n",
    "class CryptoTradingEnv(gym.Env):\n",
    "    \n",
    "    metadata = {\"render.modes\": [\"live\", \"file\", \"none\"]}\n",
    "    scaler = preprocessing.MinMaxScaler()\n",
    "    viewer = None\n",
    "    \n",
    "    \n",
    "    def __init__(\n",
    "        self, \n",
    "        df: pd.DataFrame, \n",
    "        lookback_window_size : int=50,\n",
    "        commission : float = 0.00075,\n",
    "        initial_balance : float = 10_000.0,\n",
    "        serial : bool = False\n",
    "    ):\n",
    "        super(CryptoTradingEnv, self).__init__()\n",
    "        \n",
    "        self.df = df.dropna().reset_index()\n",
    "        self.lookback_window_size=lookback_window_size\n",
    "        self.initial_balance = initial_balance\n",
    "        self.commission = commission\n",
    "        self.serial = serial\n",
    "        self.trades = []\n",
    "        \n",
    "        # The agent can buy, sell, hold, at certain amounts 1/10 through 10/10\n",
    "        self.action_space = spaces.MultiDiscrete([3, 10])\n",
    "        \n",
    "        #Observes the OHCLV values, net worth, and trade history\n",
    "        self.observation_space = spaces.Box(\n",
    "            shape=(10, lookback_window_size + 1),\n",
    "            low=0,\n",
    "            high=1\n",
    "        )\n",
    "    \n",
    "    \n",
    "    def reset(self):\n",
    "        # Reset the whole simulation\n",
    "        self.balance = self.initial_balance\n",
    "        self.net_worth = self.initial_balance\n",
    "        self.assets_held = 0\n",
    "        \n",
    "        self._reset_session()\n",
    "        \n",
    "        self.account_history = np.repeat([\n",
    "            [self.net_worth],\n",
    "            [0],\n",
    "            [0],\n",
    "            [0],\n",
    "            [0]\n",
    "        ], \n",
    "            self.lookback_window_size + 1, \n",
    "            axis=1\n",
    "        )\n",
    "        \n",
    "        self.trades = []\n",
    "        \n",
    "        return self._next_observation()\n",
    "    \n",
    "    \n",
    "    def _reset_session(self):\n",
    "        # I am not convinced on the \"random traversal\" approach here \n",
    "        # but there is some supporting evidence that it works, so I will humour it\n",
    "        \n",
    "        self.current_step = 0\n",
    "        \n",
    "        if self.serial:\n",
    "            self.steps_left = len(self.df) - self.lookback_window_size - 1\n",
    "            self.frame_start = self.lookback_window_size\n",
    "        else:\n",
    "            # Random traversal\n",
    "            self.steps_left = np.random.randint(1, MAX_TRADING_SESSION)\n",
    "            self.frame_start = np.random.randint(\n",
    "                self.lookback_window_size, \n",
    "                len(self.df) - self.steps_left\n",
    "            )\n",
    "\n",
    "        self.active_df = self.df[\n",
    "            self.frame_start - self.lookback_window_size : self.frame_start + self.steps_left\n",
    "        ]\n",
    "            \n",
    "    \n",
    "    def _next_observation(self):\n",
    "        # It is really important to ONLY scale the data that the model has seen,\n",
    "        # This is to prevent 'look-ahead bias'\n",
    "        end = self.current_step + self.lookback_window_size + 1\n",
    "        \n",
    "        obs = np.array([\n",
    "            self.active_df[\"open\"].values[self.current_step:end],  \n",
    "            self.active_df[\"high\"].values[self.current_step:end],\n",
    "            self.active_df[\"low\"].values[self.current_step:end],\n",
    "            self.active_df[\"close\"].values[self.current_step:end],\n",
    "            self.active_df[\"volume\"].values[self.current_step:end],\n",
    "        ])\n",
    "        \n",
    "        scaled_history = self.scaler.fit_transform(self.account_history)\n",
    "        \n",
    "        obs = np.append(\n",
    "            obs, \n",
    "            scaled_history[:, -(self.lookback_window_size + 1):], \n",
    "            axis=0\n",
    "        )\n",
    "        \n",
    "        return obs\n",
    "    \n",
    "    \n",
    "    def _get_current_price(self):\n",
    "        return self.df[\"close\"].values[self.frame_start + self.current_step]\n",
    "    \n",
    "    \n",
    "    def step(self, action):\n",
    "        current_price = self._get_current_price() + 0.01\n",
    "        self._take_action(action, current_price)\n",
    "        self.steps_left -= 1\n",
    "        self.current_step += 1\n",
    "        \n",
    "        if self.steps_left == 0:\n",
    "            self.balance += self.assets_held * current_price\n",
    "            self.assets_held = 0\n",
    "            self._reset_session()\n",
    "            \n",
    "        obs = self._next_observation()\n",
    "        reward = self.net_worth\n",
    "        done = self.net_worth <= 0\n",
    "        \n",
    "        return obs, reward, done, {}\n",
    "    \n",
    "    \n",
    "    def _take_action(self, action, current_price):\n",
    "        action_type = action[0]\n",
    "        amount = action[1] / 10\n",
    "        \n",
    "        assets_bought = 0\n",
    "        assets_sold = 0\n",
    "        cost = 0\n",
    "        sales = 0\n",
    "        \n",
    "        if action_type < 1:\n",
    "            # Trigger a buy\n",
    "            assets_bought = self.balance / (current_price * amount)\n",
    "            cost = assets_bought * current_price * (1 + self.commission)\n",
    "            self.assets_held += assets_bought\n",
    "            self.balance -= cost\n",
    "        \n",
    "        elif action_type < 2:\n",
    "            # Trigger a sell\n",
    "            assets_sold = self.assets_held * amount\n",
    "            sales = assets_sold * current_price * (1 - self.commission)\n",
    "            self.assets_held -= assets_sold\n",
    "            self.balance += sales\n",
    "            \n",
    "        if assets_bought > 0 or assets_sold > 0:\n",
    "            self.trades.append({\n",
    "                \"step\": self.frame_start + self.current_step,\n",
    "                \"amount\": assets_bought if assets_bought > 0 else assets_sold,\n",
    "                \"total\": cost if assets_bought > 0 else sales,\n",
    "                \"type\": \"buy\" if assets_bought > 0 else \"sell\"\n",
    "            })\n",
    "            \n",
    "        self.net_worth = self.balance + self.assets_held * current_price\n",
    "        self.account_history = np.append(\n",
    "            self.account_history,\n",
    "            [\n",
    "                [self.net_worth],\n",
    "                [assets_bought],\n",
    "                [cost],\n",
    "                [assets_sold],\n",
    "                [sales]\n",
    "            ],\n",
    "            axis=1\n",
    "        )\n",
    "    \n",
    "    \n",
    "    def render(self, mode=\"human\", **kwargs):\n",
    "        if mode == \"human\":\n",
    "            if self.viewer == None:\n",
    "                self.viewer = CryptoTradingGraph(\n",
    "                    self.df,\n",
    "                    kwargs.get(\"title\", None)\n",
    "                )\n",
    "            \n",
    "            self.viewer.render(\n",
    "                self.frame_start + self.current_step,\n",
    "                self.net_worth,\n",
    "                self.trades,\n",
    "                window_size=self.lookback_window_size\n",
    "            )\n"
   ]
  },
  {
   "cell_type": "markdown",
   "id": "3ad1e620",
   "metadata": {},
   "source": [
    "## Run it"
   ]
  },
  {
   "cell_type": "code",
   "execution_count": null,
   "id": "ee5ec699",
   "metadata": {
    "ExecuteTime": {
     "end_time": "2021-09-24T01:06:50.617319Z",
     "start_time": "2021-09-24T01:06:50.607566Z"
    }
   },
   "outputs": [],
   "source": [
    "slice_point = int(len(df) - 100_000)\n",
    "\n",
    "train_df = df[:slice_point]\n",
    "test_df = df[slice_point:]"
   ]
  },
  {
   "cell_type": "code",
   "execution_count": null,
   "id": "285ea31e",
   "metadata": {
    "ExecuteTime": {
     "end_time": "2021-09-24T01:06:50.828929Z",
     "start_time": "2021-09-24T01:06:50.756022Z"
    }
   },
   "outputs": [],
   "source": [
    "train_env = CryptoTradingEnv(train_df, commission=0.00075, serial=False)\n",
    "\n",
    "test_env = CryptoTradingEnv(test_df, commission=0.00075, serial=True)"
   ]
  },
  {
   "cell_type": "code",
   "execution_count": null,
   "id": "d845db27",
   "metadata": {
    "ExecuteTime": {
     "end_time": "2021-09-24T01:06:51.014271Z",
     "start_time": "2021-09-24T01:06:50.928890Z"
    },
    "scrolled": false
   },
   "outputs": [],
   "source": [
    "from stable_baselines3 import A2C\n",
    "\n",
    "model = A2C(\n",
    "    \"MlpPolicy\",\n",
    "    train_env,\n",
    "    verbose=1,\n",
    "    tensorboard_log=\"./tensorboard/\"\n",
    ")\n",
    "\n",
    "model.learn(total_timesteps=50_000)"
   ]
  },
  {
   "cell_type": "code",
   "execution_count": null,
   "id": "2b09d83e",
   "metadata": {},
   "outputs": [],
   "source": []
  },
  {
   "cell_type": "code",
   "execution_count": null,
   "id": "4c9452a3",
   "metadata": {},
   "outputs": [],
   "source": []
  },
  {
   "cell_type": "code",
   "execution_count": null,
   "id": "0347e65d",
   "metadata": {},
   "outputs": [],
   "source": []
  }
 ],
 "metadata": {
  "kernelspec": {
   "display_name": "Python 3 (ipykernel)",
   "language": "python",
   "name": "python3"
  },
  "language_info": {
   "codemirror_mode": {
    "name": "ipython",
    "version": 3
   },
   "file_extension": ".py",
   "mimetype": "text/x-python",
   "name": "python",
   "nbconvert_exporter": "python",
   "pygments_lexer": "ipython3",
   "version": "3.9.5"
  }
 },
 "nbformat": 4,
 "nbformat_minor": 5
}
