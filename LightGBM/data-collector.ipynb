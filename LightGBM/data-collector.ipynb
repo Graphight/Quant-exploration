{
 "cells": [
  {
   "cell_type": "markdown",
   "metadata": {},
   "source": [
    "# Imports"
   ]
  },
  {
   "cell_type": "code",
   "execution_count": 5,
   "metadata": {},
   "outputs": [],
   "source": [
    "import requests\n",
    "import os\n",
    "\n",
    "import pandas as pd\n",
    "\n",
    "from joblib import Parallel, delayed\n",
    "from datetime import datetime, timedelta"
   ]
  },
  {
   "cell_type": "code",
   "execution_count": 2,
   "metadata": {},
   "outputs": [
    {
     "data": {
      "text/html": [
       "<style>.container { width:85% !important; }</style>"
      ],
      "text/plain": [
       "<IPython.core.display.HTML object>"
      ]
     },
     "metadata": {},
     "output_type": "display_data"
    }
   ],
   "source": [
    "pd.set_option('display.max_rows', 500)\n",
    "pd.set_option('display.max_columns', 500)\n",
    "pd.set_option('display.width', 1000)\n",
    "\n",
    "from IPython.core.display import display, HTML\n",
    "display(HTML(\"<style>.container { width:85% !important; }</style>\"))"
   ]
  },
  {
   "cell_type": "markdown",
   "metadata": {},
   "source": [
    "# Helper methods"
   ]
  },
  {
   "cell_type": "code",
   "execution_count": null,
   "metadata": {},
   "outputs": [],
   "source": []
  },
  {
   "cell_type": "code",
   "execution_count": 3,
   "metadata": {},
   "outputs": [],
   "source": [
    "def _download_data(stock_ticker: str, time_from: str, time_to: str):\n",
    "    data_dir = \"./Data\" # Relative path to here\n",
    "    parquet_filename = f\"{data_dir}/ticker={stock_ticker}.parquet\"\n",
    "    temp_csv_filename = f\"{data_dir}/../temp.csv\"\n",
    "    \n",
    "#     time_from = 1458950400\n",
    "#     time_to = 1616716800\n",
    "\n",
    "    if os.path.exists(parquet_filename):\n",
    "        print(f\"Data for [ {stock_ticker} ] exists, skipping\")\n",
    "    else:\n",
    "        print(f\"Attempting to download [ {stock_ticker} ] data\")\n",
    "        url = f\"https://query1.finance.yahoo.com/v7/finance/download/{stock_ticker}?period1={time_from}&period2={time_to}&interval=1d&events=history&includeAdjustedClose=false\"\n",
    "        req = requests.get(url)\n",
    "        url_content = req.content\n",
    "\n",
    "        csv_file = open(temp_csv_filename, \"wb\")\n",
    "        csv_file.write(url_content)\n",
    "        csv_file.close()\n",
    "\n",
    "        df =pd.read_csv(temp_csv_filename)\n",
    "        df.to_parquet(parquet_filename)"
   ]
  },
  {
   "cell_type": "code",
   "execution_count": 4,
   "metadata": {},
   "outputs": [],
   "source": [
    "stocks_we_want = [\n",
    "    \"AAPL\",\n",
    "    \"MSFT\",\n",
    "    \"AMZN\",\n",
    "    \"GOOG\",\n",
    "    \"GOOGL\",\n",
    "    \"FB\",\n",
    "    \"BABA\",\n",
    "    \"TSLA\",\n",
    "    \"TSM\",\n",
    "    \"JPM\",\n",
    "    \"V\",\n",
    "    \"JNJ\",\n",
    "    \"WMT\",\n",
    "    \"MA\",\n",
    "    \"UNH\",\n",
    "    \"DIS\",\n",
    "    \"PG\",\n",
    "    \"BAC\",\n",
    "    \"HD\",\n",
    "    \"NVDA\",\n",
    "    \"PYPL\",\n",
    "    \"CMCSA\",\n",
    "    \"INTC\",\n",
    "    \"ASML\",\n",
    "    \"XOM\",\n",
    "    \"VZ\",\n",
    "    \"NFLX\",\n",
    "    \"KO\",\n",
    "    \"ADBE\",\n",
    "    \"T\",\n",
    "    \"TM\",\n",
    "    \"NKE\",\n",
    "    \"CSCO\",\n",
    "    \"ABT\",\n",
    "    \"CVX\",\n",
    "    \"PFE\",\n",
    "    \"NVS\",\n",
    "    \"CRM\",\n",
    "    \"MRK\",\n",
    "    \"ORCL\",\n",
    "    \"PEP\",\n",
    "    \"AVGO\",\n",
    "    \"ABBV\",\n",
    "    \"ACN\",\n",
    "    \"TMO\",\n",
    "    \"LLY\",\n",
    "    \"MCD\",\n",
    "    \"TXN\",\n",
    "    \"WFC\",\n",
    "    \"MDT\",\n",
    "    \"DHR\",\n",
    "    \"TMUS\",\n",
    "    \"COST\",\n",
    "    \"HON\",\n",
    "    \"C\",\n",
    "    \"UL\",\n",
    "    \"QCOM\",\n",
    "    \"UNP\",\n",
    "    \"HDB\",\n",
    "    \"SAP\",\n",
    "    \"NEE\",\n",
    "    \"AMGN\",\n",
    "    \"LIN\",\n",
    "    \"BA\",\n",
    "    \"BMY\",\n",
    "    \"UPS\",\n",
    "    \"PM\",\n",
    "    \"SHOP\",\n",
    "    \"RY\",\n",
    "    \"LOW\",\n",
    "    \"AZN\",\n",
    "    \"SNE\",\n",
    "    \"CHTR\",\n",
    "    \"MS\",\n",
    "    \"SBUX\",\n",
    "    \"SNY\",\n",
    "    \"TOT\",\n",
    "    \"CAT\",\n",
    "    \"NVO\",\n",
    "    \"TD\",\n",
    "    \"HSBC\",\n",
    "    \"IBM\",\n",
    "    \"SCHW\",\n",
    "    \"RTX\",\n",
    "    \"DE\",\n",
    "    \"GS\",\n",
    "    \"AXP\",\n",
    "    \"AMAT\",\n",
    "    \"MMM\",\n",
    "    \"BLK\",\n",
    "    \"GE\",\n",
    "    \"PDD\",\n",
    "    \"ABNB\",\n",
    "    \"JD\",\n",
    "    \"EL\",\n",
    "    \"INTU\",\n",
    "    \"BUD\",\n",
    "    \"AMT\",\n",
    "]"
   ]
  },
  {
   "cell_type": "code",
   "execution_count": 20,
   "metadata": {},
   "outputs": [],
   "source": [
    "time_to = str(int(datetime(2021,3,30,0,0).timestamp()))\n",
    "time_from = str(int((datetime(2021,3,30,0,0) - timedelta(days=365)).timestamp()))"
   ]
  },
  {
   "cell_type": "code",
   "execution_count": null,
   "metadata": {},
   "outputs": [],
   "source": [
    "# # Could use multiple processes here but then you hit problems with their API\n",
    "# Parallel(n_jobs=1)(delayed(_download_data)(\n",
    "#     stock_ticker\n",
    "#     ) for stock_ticker in stocks_we_want)"
   ]
  },
  {
   "cell_type": "code",
   "execution_count": null,
   "metadata": {},
   "outputs": [],
   "source": [
    "for stock_ticker in stocks_we_want:\n",
    "    _download_data(stock_ticker=stock_ticker)"
   ]
  },
  {
   "cell_type": "code",
   "execution_count": 21,
   "metadata": {},
   "outputs": [
    {
     "data": {
      "text/plain": [
       "'1585479600'"
      ]
     },
     "execution_count": 21,
     "metadata": {},
     "output_type": "execute_result"
    }
   ],
   "source": [
    "time_from"
   ]
  },
  {
   "cell_type": "code",
   "execution_count": 22,
   "metadata": {},
   "outputs": [
    {
     "data": {
      "text/plain": [
       "'1617015600'"
      ]
     },
     "execution_count": 22,
     "metadata": {},
     "output_type": "execute_result"
    }
   ],
   "source": [
    "time_to"
   ]
  },
  {
   "cell_type": "code",
   "execution_count": null,
   "metadata": {},
   "outputs": [],
   "source": []
  },
  {
   "cell_type": "code",
   "execution_count": null,
   "metadata": {},
   "outputs": [],
   "source": []
  }
 ],
 "metadata": {
  "kernelspec": {
   "display_name": "Python 3",
   "language": "python",
   "name": "python3"
  },
  "language_info": {
   "codemirror_mode": {
    "name": "ipython",
    "version": 3
   },
   "file_extension": ".py",
   "mimetype": "text/x-python",
   "name": "python",
   "nbconvert_exporter": "python",
   "pygments_lexer": "ipython3",
   "version": "3.9.5"
  }
 },
 "nbformat": 4,
 "nbformat_minor": 4
}
